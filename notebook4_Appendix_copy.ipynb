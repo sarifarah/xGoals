{
 "cells": [
  {
   "cell_type": "markdown",
   "id": "0e9c7d48",
   "metadata": {},
   "source": [
    "# Appendix"
   ]
  },
  {
   "cell_type": "markdown",
   "id": "dec11238",
   "metadata": {},
   "source": [
    "**Sari Farah**\n",
    "\n",
    "**BrainStation, Data Science**\n",
    "\n",
    "**Previous Notebook: 3. Modelling**"
   ]
  },
  {
   "cell_type": "markdown",
   "id": "a9d53e93",
   "metadata": {},
   "source": [
    "Some parts of my notebooks have snippets of code that I have taken from elsewhere. \n",
    "\n",
    "I will print the code here and share the original source."
   ]
  },
  {
   "cell_type": "markdown",
   "id": "6ba7ef34",
   "metadata": {},
   "source": [
    "From notebook 2. EDA: **Cell 32**\n",
    "\n",
    "This was taken from the Github of 'Friend of tracking': https://github.com/Friends-of-Tracking-Data-FoTD/SoccermaticsForPython/blob/master/3xGModel.py\n",
    "\n",
    "This was used for feature engineering of Angle and Distance columns "
   ]
  },
  {
   "cell_type": "code",
   "execution_count": 1,
   "id": "cda81d35",
   "metadata": {},
   "outputs": [],
   "source": [
    "#for i,shot in df.iterrows():\n",
    "    #df.at[i,'X']=100-shot['X']\n",
    "    #df.at[i,'Y']=shot['Y']\n",
    "    #df.at[i,'C']=abs(shot['Y']-50)\n",
    "    \n",
    "    #x=df.at[i,'X']*105/100\n",
    "    #y=df.at[i,'C']*65/100\n",
    "    #df.at[i,'Distance']=np.sqrt(x**2 + y**2)\n",
    "    #a = np.arctan(7.32 *x /(x**2 + y**2 - (7.32/2)**2))\n",
    "    #if a<0:\n",
    "        #a=np.pi+a\n",
    "    #df.at[i,'Angle'] = a*180/3.14"
   ]
  },
  {
   "cell_type": "markdown",
   "id": "3bdc733c",
   "metadata": {},
   "source": [
    "From notebook 2. EDA: **Cell 116**\n",
    "\n",
    "This was taken from the Github of 'FCPython':https://fcpython.com/visualisation/football-heatmaps-seaborn \n",
    "\n",
    "This was used to create some of my visuals. "
   ]
  },
  {
   "cell_type": "code",
   "execution_count": null,
   "id": "2ba98c63",
   "metadata": {},
   "outputs": [],
   "source": [
    "##creating a fullsize football pitch using Matplotlib \n",
    "#def createPitch():\n",
    "    ##Create figure\n",
    "    #fig=plt.figure()\n",
    "    #fig.set_size_inches(20, 10)\n",
    "    #ax=fig.add_subplot(1,1,1)\n",
    "\n",
    "    ##Pitch Outline & Centre Line\n",
    "    #plt.plot([0,0],[0,68], color=\"black\")\n",
    "    #plt.plot([0,105],[68,68], color=\"black\")\n",
    "    #plt.plot([105,105],[68,0], color=\"black\")\n",
    "    #plt.plot([105,0],[0,0], color=\"black\")\n",
    "    #plt.plot([52.5,52.5],[0,68], color=\"black\")\n",
    "\n",
    "    ##Left Penalty Area\n",
    "    #plt.plot([13.3,13.3],[50,18],color=\"black\")\n",
    "    #plt.plot([0,13.3],[50,50],color=\"black\")\n",
    "    #plt.plot([13.3,0],[18,18],color=\"black\")\n",
    "\n",
    "    ##Right Penalty Area\n",
    "    #plt.plot([105,91.7],[50,50],color=\"black\")\n",
    "    #plt.plot([91.7,91.7],[50,18],color=\"black\")\n",
    "    #plt.plot([91.7,105],[18,18],color=\"black\")\n",
    "\n",
    "    ##Left 6-yard Box\n",
    "    #plt.plot([0,4.5],[42,42],color=\"black\")\n",
    "    #plt.plot([4.5,4.5],[42,26],color=\"black\")\n",
    "    #plt.plot([4.5,0],[26,26],color=\"black\")\n",
    "\n",
    "    ##Right 6-yard Box\n",
    "    #plt.plot([105,100.5],[42,42],color=\"black\")\n",
    "    #plt.plot([100.5,100.5],[42,26],color=\"black\")\n",
    "    #plt.plot([100.5,105],[26,26],color=\"black\")\n",
    "    \n",
    "    ##Left goal\n",
    "    #plt.plot([-1,0],[30.85,30.85],color=\"black\")\n",
    "    #plt.plot([-1,-1],[30.85,37.15],color=\"black\")\n",
    "    #plt.plot([-1,0],[37.15,37.15],color=\"black\")\n",
    "\n",
    "    ##Right goal\n",
    "    #plt.plot([105,106],[30.85,30.85],color=\"black\")\n",
    "    #plt.plot([106,106],[30.85,37.15],color=\"black\")\n",
    "    #plt.plot([105,106],[37.15,37.15],color=\"black\")\n",
    "\n",
    "    ##Prepare Circles\n",
    "    #centreCircle = plt.Circle((52.5,34),9.15,color=\"black\",fill=False)\n",
    "    #centreSpot = plt.Circle((52.5,34),0.3,color=\"black\")\n",
    "    #leftPenSpot = plt.Circle((8.5,34),0.4,color=\"black\")\n",
    "    #rightPenSpot = plt.Circle((96.5,34),0.3,color=\"black\")\n",
    "\n",
    "    ##Draw Circles\n",
    "    #ax.add_patch(centreCircle)\n",
    "    #ax.add_patch(centreSpot)\n",
    "    #ax.add_patch(leftPenSpot)\n",
    "    #ax.add_patch(rightPenSpot)\n",
    "\n",
    "    ##Prepare Arcs\n",
    "    #leftArc = Arc((7,34),height=20.3,width=18.3,angle=0,theta1=310,theta2=50,color=\"black\")\n",
    "    #rightArc = Arc((98,34),height=20.3,width=18.3,angle=0,theta1=130,theta2=230,color=\"black\")\n",
    "\n",
    "    ##Draw Arcs\n",
    "    #ax.add_patch(leftArc)\n",
    "    #ax.add_patch(rightArc)\n",
    "    \n",
    "    ##Tidy Axes\n",
    "    #plt.axis('off')"
   ]
  }
 ],
 "metadata": {
  "kernelspec": {
   "display_name": "Python 3 (ipykernel)",
   "language": "python",
   "name": "python3"
  },
  "language_info": {
   "codemirror_mode": {
    "name": "ipython",
    "version": 3
   },
   "file_extension": ".py",
   "mimetype": "text/x-python",
   "name": "python",
   "nbconvert_exporter": "python",
   "pygments_lexer": "ipython3",
   "version": "3.9.7"
  }
 },
 "nbformat": 4,
 "nbformat_minor": 5
}
