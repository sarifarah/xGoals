{
 "cells": [
  {
   "cell_type": "markdown",
   "id": "d3f0f93d",
   "metadata": {},
   "source": [
    "# 3. Modelling & Evaluation"
   ]
  },
  {
   "cell_type": "markdown",
   "id": "8a168320",
   "metadata": {},
   "source": [
    "**Sari Farah**\n",
    "\n",
    "**BrainStation, Data Science**\n",
    "\n",
    "**Previous Notebook: 2. EDA**\n",
    "\n",
    "**Next Notebook: 4. Appendix**"
   ]
  },
  {
   "cell_type": "markdown",
   "id": "ed5e368e",
   "metadata": {},
   "source": [
    "In the previous notebook, we did some initial analysis to explore the relationship between our input and target variables. In this notebook, we will be modelling.\n",
    "\n",
    "We are trying to predict a classification of goal or no goal. So we want to use classification models.\n",
    "\n",
    "The evaluation metric used to determine which model performs best is \n",
    "- F1 score: F1-score is the harmonic mean of precision and recall. It combines precision and recall into a single number\n",
    "- ROC/AUC: ROC is a probability curve and AUC represents the degree or measure of separability. It tells how much the model is capable of distinguishing between classes. Higher the AUC, the better the model is at predicting 0 classes as 0 and 1 classes as 1.\n",
    "\n",
    "In this notebook, I want to test the following models.\n",
    "\n",
    "- Logistic Regression model\n",
    "- K Nearest Neighbors (KNN model)\n",
    "- Support Vector Machine (SVM model)\n",
    "- Random Forest "
   ]
  },
  {
   "cell_type": "code",
   "execution_count": 1,
   "id": "800f3bbc",
   "metadata": {},
   "outputs": [],
   "source": [
    "#importing the libraries I need \n",
    "\n",
    "import pandas as pd\n",
    "import numpy as np\n",
    "import seaborn as sns \n",
    "import matplotlib.pyplot as plt\n",
    "%matplotlib inline \n",
    "\n",
    "from sklearn.model_selection import train_test_split, GridSearchCV \n",
    "from sklearn.preprocessing import MinMaxScaler, StandardScaler \n",
    "from sklearn.linear_model import LogisticRegression \n",
    "from sklearn.neighbors import KNeighborsClassifier, KNeighborsTransformer \n",
    "from sklearn.tree import DecisionTreeClassifier\n",
    "from sklearn.decomposition import PCA \n",
    "from sklearn.pipeline import Pipeline \n",
    "from sklearn.metrics import plot_confusion_matrix, confusion_matrix, classification_report \n",
    "from sklearn.metrics import accuracy_score\n",
    "from sklearn.utils import resample\n",
    "from sklearn.svm import SVC\n",
    "from sklearn import svm\n",
    "from sklearn.preprocessing import OneHotEncoder\n",
    "from sklearn.ensemble import RandomForestClassifier\n",
    "from sklearn.metrics import plot_roc_curve\n",
    "\n",
    "\n",
    "import joblib"
   ]
  },
  {
   "cell_type": "markdown",
   "id": "1eefaed2",
   "metadata": {},
   "source": [
    "Read in our data:"
   ]
  },
  {
   "cell_type": "code",
   "execution_count": 2,
   "id": "a3f14f12",
   "metadata": {},
   "outputs": [],
   "source": [
    "df = pd.read_csv('/Users/sarifarah/Desktop/Sari_Farah_Capstone_Final/df_modelling_final.csv')"
   ]
  },
  {
   "cell_type": "markdown",
   "id": "737e6262",
   "metadata": {},
   "source": [
    "Columns I forgot to drop in the last notebook."
   ]
  },
  {
   "cell_type": "code",
   "execution_count": 3,
   "id": "a98be1af",
   "metadata": {},
   "outputs": [],
   "source": [
    "df = df.drop(columns = ['player', 'player_id'])"
   ]
  },
  {
   "cell_type": "markdown",
   "id": "2d9fd0fe",
   "metadata": {},
   "source": [
    "Player ID is not beneficial to our model and will be read as an ordinal value, so it will not be beneficial to us. As for player, this column is addressed on our next steps."
   ]
  },
  {
   "cell_type": "markdown",
   "id": "584120e0",
   "metadata": {},
   "source": [
    "## onehotencoding"
   ]
  },
  {
   "cell_type": "markdown",
   "id": "1ed89cdf",
   "metadata": {},
   "source": [
    "I am onehot encoding the team names below:"
   ]
  },
  {
   "cell_type": "code",
   "execution_count": 4,
   "id": "4d1646f8",
   "metadata": {},
   "outputs": [
    {
     "data": {
      "text/plain": [
       "<227614x135 sparse matrix of type '<class 'numpy.float64'>'\n",
       "\twith 227614 stored elements in Compressed Sparse Row format>"
      ]
     },
     "execution_count": 4,
     "metadata": {},
     "output_type": "execute_result"
    }
   ],
   "source": [
    "#instantiating the onehot encoder \n",
    "ohe = OneHotEncoder()\n",
    "\n",
    "#fit and transform \n",
    "h_team_df = pd.DataFrame(df['h_team'])\n",
    "ohe_h_team = ohe.fit_transform(h_team_df)\n",
    "\n",
    "ohe_h_team"
   ]
  },
  {
   "cell_type": "code",
   "execution_count": 5,
   "id": "2dd0c830",
   "metadata": {},
   "outputs": [],
   "source": [
    "#convert to dense array\n",
    "ohe_h_team_dense = ohe_h_team.toarray()\n",
    "\n",
    "h_team_df = pd.DataFrame(ohe_h_team_dense, columns=ohe.categories_[0]).astype('int')"
   ]
  },
  {
   "cell_type": "code",
   "execution_count": 6,
   "id": "e001e580",
   "metadata": {},
   "outputs": [
    {
     "data": {
      "text/html": [
       "<div>\n",
       "<style scoped>\n",
       "    .dataframe tbody tr th:only-of-type {\n",
       "        vertical-align: middle;\n",
       "    }\n",
       "\n",
       "    .dataframe tbody tr th {\n",
       "        vertical-align: top;\n",
       "    }\n",
       "\n",
       "    .dataframe thead th {\n",
       "        text-align: right;\n",
       "    }\n",
       "</style>\n",
       "<table border=\"1\" class=\"dataframe\">\n",
       "  <thead>\n",
       "    <tr style=\"text-align: right;\">\n",
       "      <th></th>\n",
       "      <th>AC Milan</th>\n",
       "      <th>Alaves</th>\n",
       "      <th>Amiens</th>\n",
       "      <th>Angers</th>\n",
       "      <th>Arsenal</th>\n",
       "      <th>Aston Villa</th>\n",
       "      <th>Atalanta</th>\n",
       "      <th>Athletic Club</th>\n",
       "      <th>Atletico Madrid</th>\n",
       "      <th>Augsburg</th>\n",
       "      <th>...</th>\n",
       "      <th>Valencia</th>\n",
       "      <th>Verona</th>\n",
       "      <th>VfB Stuttgart</th>\n",
       "      <th>Villarreal</th>\n",
       "      <th>Watford</th>\n",
       "      <th>Werder Bremen</th>\n",
       "      <th>West Bromwich Albion</th>\n",
       "      <th>West Ham</th>\n",
       "      <th>Wolfsburg</th>\n",
       "      <th>Wolverhampton Wanderers</th>\n",
       "    </tr>\n",
       "  </thead>\n",
       "  <tbody>\n",
       "    <tr>\n",
       "      <th>0</th>\n",
       "      <td>0</td>\n",
       "      <td>0</td>\n",
       "      <td>0</td>\n",
       "      <td>0</td>\n",
       "      <td>0</td>\n",
       "      <td>0</td>\n",
       "      <td>0</td>\n",
       "      <td>0</td>\n",
       "      <td>0</td>\n",
       "      <td>0</td>\n",
       "      <td>...</td>\n",
       "      <td>0</td>\n",
       "      <td>0</td>\n",
       "      <td>0</td>\n",
       "      <td>0</td>\n",
       "      <td>0</td>\n",
       "      <td>0</td>\n",
       "      <td>0</td>\n",
       "      <td>0</td>\n",
       "      <td>0</td>\n",
       "      <td>0</td>\n",
       "    </tr>\n",
       "    <tr>\n",
       "      <th>1</th>\n",
       "      <td>0</td>\n",
       "      <td>0</td>\n",
       "      <td>0</td>\n",
       "      <td>0</td>\n",
       "      <td>0</td>\n",
       "      <td>0</td>\n",
       "      <td>0</td>\n",
       "      <td>0</td>\n",
       "      <td>0</td>\n",
       "      <td>0</td>\n",
       "      <td>...</td>\n",
       "      <td>0</td>\n",
       "      <td>0</td>\n",
       "      <td>0</td>\n",
       "      <td>0</td>\n",
       "      <td>0</td>\n",
       "      <td>0</td>\n",
       "      <td>0</td>\n",
       "      <td>0</td>\n",
       "      <td>0</td>\n",
       "      <td>0</td>\n",
       "    </tr>\n",
       "    <tr>\n",
       "      <th>2</th>\n",
       "      <td>0</td>\n",
       "      <td>0</td>\n",
       "      <td>0</td>\n",
       "      <td>0</td>\n",
       "      <td>0</td>\n",
       "      <td>0</td>\n",
       "      <td>0</td>\n",
       "      <td>0</td>\n",
       "      <td>0</td>\n",
       "      <td>0</td>\n",
       "      <td>...</td>\n",
       "      <td>0</td>\n",
       "      <td>0</td>\n",
       "      <td>0</td>\n",
       "      <td>0</td>\n",
       "      <td>0</td>\n",
       "      <td>0</td>\n",
       "      <td>0</td>\n",
       "      <td>0</td>\n",
       "      <td>0</td>\n",
       "      <td>0</td>\n",
       "    </tr>\n",
       "    <tr>\n",
       "      <th>3</th>\n",
       "      <td>0</td>\n",
       "      <td>0</td>\n",
       "      <td>0</td>\n",
       "      <td>0</td>\n",
       "      <td>0</td>\n",
       "      <td>0</td>\n",
       "      <td>0</td>\n",
       "      <td>0</td>\n",
       "      <td>0</td>\n",
       "      <td>0</td>\n",
       "      <td>...</td>\n",
       "      <td>0</td>\n",
       "      <td>0</td>\n",
       "      <td>0</td>\n",
       "      <td>0</td>\n",
       "      <td>0</td>\n",
       "      <td>0</td>\n",
       "      <td>0</td>\n",
       "      <td>0</td>\n",
       "      <td>0</td>\n",
       "      <td>0</td>\n",
       "    </tr>\n",
       "    <tr>\n",
       "      <th>4</th>\n",
       "      <td>0</td>\n",
       "      <td>0</td>\n",
       "      <td>0</td>\n",
       "      <td>0</td>\n",
       "      <td>0</td>\n",
       "      <td>0</td>\n",
       "      <td>0</td>\n",
       "      <td>0</td>\n",
       "      <td>0</td>\n",
       "      <td>0</td>\n",
       "      <td>...</td>\n",
       "      <td>0</td>\n",
       "      <td>0</td>\n",
       "      <td>0</td>\n",
       "      <td>0</td>\n",
       "      <td>0</td>\n",
       "      <td>0</td>\n",
       "      <td>0</td>\n",
       "      <td>0</td>\n",
       "      <td>0</td>\n",
       "      <td>0</td>\n",
       "    </tr>\n",
       "  </tbody>\n",
       "</table>\n",
       "<p>5 rows × 135 columns</p>\n",
       "</div>"
      ],
      "text/plain": [
       "   AC Milan  Alaves  Amiens  Angers  Arsenal  Aston Villa  Atalanta  \\\n",
       "0         0       0       0       0        0            0         0   \n",
       "1         0       0       0       0        0            0         0   \n",
       "2         0       0       0       0        0            0         0   \n",
       "3         0       0       0       0        0            0         0   \n",
       "4         0       0       0       0        0            0         0   \n",
       "\n",
       "   Athletic Club  Atletico Madrid  Augsburg  ...  Valencia  Verona  \\\n",
       "0              0                0         0  ...         0       0   \n",
       "1              0                0         0  ...         0       0   \n",
       "2              0                0         0  ...         0       0   \n",
       "3              0                0         0  ...         0       0   \n",
       "4              0                0         0  ...         0       0   \n",
       "\n",
       "   VfB Stuttgart  Villarreal  Watford  Werder Bremen  West Bromwich Albion  \\\n",
       "0              0           0        0              0                     0   \n",
       "1              0           0        0              0                     0   \n",
       "2              0           0        0              0                     0   \n",
       "3              0           0        0              0                     0   \n",
       "4              0           0        0              0                     0   \n",
       "\n",
       "   West Ham  Wolfsburg  Wolverhampton Wanderers  \n",
       "0         0          0                        0  \n",
       "1         0          0                        0  \n",
       "2         0          0                        0  \n",
       "3         0          0                        0  \n",
       "4         0          0                        0  \n",
       "\n",
       "[5 rows x 135 columns]"
      ]
     },
     "execution_count": 6,
     "metadata": {},
     "output_type": "execute_result"
    }
   ],
   "source": [
    "#sanity check and inspection\n",
    "h_team_df.head()"
   ]
  },
  {
   "cell_type": "code",
   "execution_count": 7,
   "id": "96324d4a",
   "metadata": {},
   "outputs": [],
   "source": [
    "#merging my onehotencoded dataframe to my main dataframe \n",
    "df = pd.concat([df, h_team_df], axis=1)"
   ]
  },
  {
   "cell_type": "code",
   "execution_count": 8,
   "id": "554bca7c",
   "metadata": {},
   "outputs": [
    {
     "data": {
      "text/plain": [
       "<227614x135 sparse matrix of type '<class 'numpy.float64'>'\n",
       "\twith 227614 stored elements in Compressed Sparse Row format>"
      ]
     },
     "execution_count": 8,
     "metadata": {},
     "output_type": "execute_result"
    }
   ],
   "source": [
    "#instantiating the onehot encoder \n",
    "ohe = OneHotEncoder()\n",
    "\n",
    "#fit and transform \n",
    "a_team_df = pd.DataFrame(df['a_team'])\n",
    "ohe_a_team = ohe.fit_transform(a_team_df)\n",
    "\n",
    "ohe_a_team"
   ]
  },
  {
   "cell_type": "code",
   "execution_count": 9,
   "id": "7eec7eab",
   "metadata": {},
   "outputs": [],
   "source": [
    "#convert to dense array\n",
    "ohe_a_team_dense = ohe_a_team.toarray()\n",
    "\n",
    "a_team_df = pd.DataFrame(ohe_a_team_dense, columns=ohe.categories_[0]).astype('int')"
   ]
  },
  {
   "cell_type": "code",
   "execution_count": 10,
   "id": "5cbf2d95",
   "metadata": {
    "scrolled": true
   },
   "outputs": [
    {
     "data": {
      "text/html": [
       "<div>\n",
       "<style scoped>\n",
       "    .dataframe tbody tr th:only-of-type {\n",
       "        vertical-align: middle;\n",
       "    }\n",
       "\n",
       "    .dataframe tbody tr th {\n",
       "        vertical-align: top;\n",
       "    }\n",
       "\n",
       "    .dataframe thead th {\n",
       "        text-align: right;\n",
       "    }\n",
       "</style>\n",
       "<table border=\"1\" class=\"dataframe\">\n",
       "  <thead>\n",
       "    <tr style=\"text-align: right;\">\n",
       "      <th></th>\n",
       "      <th>AC Milan</th>\n",
       "      <th>Alaves</th>\n",
       "      <th>Amiens</th>\n",
       "      <th>Angers</th>\n",
       "      <th>Arsenal</th>\n",
       "      <th>Aston Villa</th>\n",
       "      <th>Atalanta</th>\n",
       "      <th>Athletic Club</th>\n",
       "      <th>Atletico Madrid</th>\n",
       "      <th>Augsburg</th>\n",
       "      <th>...</th>\n",
       "      <th>Valencia</th>\n",
       "      <th>Verona</th>\n",
       "      <th>VfB Stuttgart</th>\n",
       "      <th>Villarreal</th>\n",
       "      <th>Watford</th>\n",
       "      <th>Werder Bremen</th>\n",
       "      <th>West Bromwich Albion</th>\n",
       "      <th>West Ham</th>\n",
       "      <th>Wolfsburg</th>\n",
       "      <th>Wolverhampton Wanderers</th>\n",
       "    </tr>\n",
       "  </thead>\n",
       "  <tbody>\n",
       "    <tr>\n",
       "      <th>0</th>\n",
       "      <td>0</td>\n",
       "      <td>0</td>\n",
       "      <td>0</td>\n",
       "      <td>0</td>\n",
       "      <td>0</td>\n",
       "      <td>0</td>\n",
       "      <td>0</td>\n",
       "      <td>0</td>\n",
       "      <td>0</td>\n",
       "      <td>0</td>\n",
       "      <td>...</td>\n",
       "      <td>0</td>\n",
       "      <td>0</td>\n",
       "      <td>0</td>\n",
       "      <td>0</td>\n",
       "      <td>0</td>\n",
       "      <td>0</td>\n",
       "      <td>0</td>\n",
       "      <td>0</td>\n",
       "      <td>0</td>\n",
       "      <td>0</td>\n",
       "    </tr>\n",
       "    <tr>\n",
       "      <th>1</th>\n",
       "      <td>0</td>\n",
       "      <td>0</td>\n",
       "      <td>0</td>\n",
       "      <td>0</td>\n",
       "      <td>0</td>\n",
       "      <td>0</td>\n",
       "      <td>0</td>\n",
       "      <td>0</td>\n",
       "      <td>0</td>\n",
       "      <td>0</td>\n",
       "      <td>...</td>\n",
       "      <td>0</td>\n",
       "      <td>0</td>\n",
       "      <td>0</td>\n",
       "      <td>0</td>\n",
       "      <td>0</td>\n",
       "      <td>0</td>\n",
       "      <td>0</td>\n",
       "      <td>0</td>\n",
       "      <td>0</td>\n",
       "      <td>0</td>\n",
       "    </tr>\n",
       "    <tr>\n",
       "      <th>2</th>\n",
       "      <td>0</td>\n",
       "      <td>0</td>\n",
       "      <td>0</td>\n",
       "      <td>0</td>\n",
       "      <td>0</td>\n",
       "      <td>0</td>\n",
       "      <td>0</td>\n",
       "      <td>0</td>\n",
       "      <td>0</td>\n",
       "      <td>0</td>\n",
       "      <td>...</td>\n",
       "      <td>0</td>\n",
       "      <td>0</td>\n",
       "      <td>0</td>\n",
       "      <td>0</td>\n",
       "      <td>0</td>\n",
       "      <td>0</td>\n",
       "      <td>0</td>\n",
       "      <td>0</td>\n",
       "      <td>0</td>\n",
       "      <td>0</td>\n",
       "    </tr>\n",
       "    <tr>\n",
       "      <th>3</th>\n",
       "      <td>0</td>\n",
       "      <td>0</td>\n",
       "      <td>0</td>\n",
       "      <td>0</td>\n",
       "      <td>0</td>\n",
       "      <td>0</td>\n",
       "      <td>0</td>\n",
       "      <td>0</td>\n",
       "      <td>0</td>\n",
       "      <td>0</td>\n",
       "      <td>...</td>\n",
       "      <td>0</td>\n",
       "      <td>0</td>\n",
       "      <td>0</td>\n",
       "      <td>0</td>\n",
       "      <td>0</td>\n",
       "      <td>0</td>\n",
       "      <td>0</td>\n",
       "      <td>0</td>\n",
       "      <td>0</td>\n",
       "      <td>0</td>\n",
       "    </tr>\n",
       "    <tr>\n",
       "      <th>4</th>\n",
       "      <td>0</td>\n",
       "      <td>0</td>\n",
       "      <td>0</td>\n",
       "      <td>0</td>\n",
       "      <td>0</td>\n",
       "      <td>0</td>\n",
       "      <td>0</td>\n",
       "      <td>0</td>\n",
       "      <td>0</td>\n",
       "      <td>0</td>\n",
       "      <td>...</td>\n",
       "      <td>0</td>\n",
       "      <td>0</td>\n",
       "      <td>0</td>\n",
       "      <td>0</td>\n",
       "      <td>0</td>\n",
       "      <td>0</td>\n",
       "      <td>0</td>\n",
       "      <td>0</td>\n",
       "      <td>0</td>\n",
       "      <td>0</td>\n",
       "    </tr>\n",
       "  </tbody>\n",
       "</table>\n",
       "<p>5 rows × 135 columns</p>\n",
       "</div>"
      ],
      "text/plain": [
       "   AC Milan  Alaves  Amiens  Angers  Arsenal  Aston Villa  Atalanta  \\\n",
       "0         0       0       0       0        0            0         0   \n",
       "1         0       0       0       0        0            0         0   \n",
       "2         0       0       0       0        0            0         0   \n",
       "3         0       0       0       0        0            0         0   \n",
       "4         0       0       0       0        0            0         0   \n",
       "\n",
       "   Athletic Club  Atletico Madrid  Augsburg  ...  Valencia  Verona  \\\n",
       "0              0                0         0  ...         0       0   \n",
       "1              0                0         0  ...         0       0   \n",
       "2              0                0         0  ...         0       0   \n",
       "3              0                0         0  ...         0       0   \n",
       "4              0                0         0  ...         0       0   \n",
       "\n",
       "   VfB Stuttgart  Villarreal  Watford  Werder Bremen  West Bromwich Albion  \\\n",
       "0              0           0        0              0                     0   \n",
       "1              0           0        0              0                     0   \n",
       "2              0           0        0              0                     0   \n",
       "3              0           0        0              0                     0   \n",
       "4              0           0        0              0                     0   \n",
       "\n",
       "   West Ham  Wolfsburg  Wolverhampton Wanderers  \n",
       "0         0          0                        0  \n",
       "1         0          0                        0  \n",
       "2         0          0                        0  \n",
       "3         0          0                        0  \n",
       "4         0          0                        0  \n",
       "\n",
       "[5 rows x 135 columns]"
      ]
     },
     "execution_count": 10,
     "metadata": {},
     "output_type": "execute_result"
    }
   ],
   "source": [
    "#sanity check and inspection\n",
    "a_team_df.head()"
   ]
  },
  {
   "cell_type": "markdown",
   "id": "8abcbf36",
   "metadata": {},
   "source": [
    "We should be onehotencoding in our pipelines below, however this is causing the models to take a very long time to run. I have mentioned that this will be something that is fixed in my next steps, as it causes data leakage. "
   ]
  },
  {
   "cell_type": "code",
   "execution_count": 11,
   "id": "d9d411b7",
   "metadata": {},
   "outputs": [],
   "source": [
    "#merging my onehotencoded dataframe to my main dataframe \n",
    "df = pd.concat([df, a_team_df], axis=1)"
   ]
  },
  {
   "cell_type": "markdown",
   "id": "7bb12bcf",
   "metadata": {},
   "source": [
    "Dropping the encoded columns. Also dropping Id as it is irrelevant to our shot data and our models will interpret it as an ordinal category. This will not give us the best results."
   ]
  },
  {
   "cell_type": "code",
   "execution_count": 12,
   "id": "55b8f023",
   "metadata": {},
   "outputs": [
    {
     "data": {
      "text/html": [
       "<div>\n",
       "<style scoped>\n",
       "    .dataframe tbody tr th:only-of-type {\n",
       "        vertical-align: middle;\n",
       "    }\n",
       "\n",
       "    .dataframe tbody tr th {\n",
       "        vertical-align: top;\n",
       "    }\n",
       "\n",
       "    .dataframe thead th {\n",
       "        text-align: right;\n",
       "    }\n",
       "</style>\n",
       "<table border=\"1\" class=\"dataframe\">\n",
       "  <thead>\n",
       "    <tr style=\"text-align: right;\">\n",
       "      <th></th>\n",
       "      <th>minute</th>\n",
       "      <th>result</th>\n",
       "      <th>X</th>\n",
       "      <th>Y</th>\n",
       "      <th>h_a</th>\n",
       "      <th>season</th>\n",
       "      <th>match_id</th>\n",
       "      <th>h_goals</th>\n",
       "      <th>a_goals</th>\n",
       "      <th>player_assisted</th>\n",
       "      <th>...</th>\n",
       "      <th>Valencia</th>\n",
       "      <th>Verona</th>\n",
       "      <th>VfB Stuttgart</th>\n",
       "      <th>Villarreal</th>\n",
       "      <th>Watford</th>\n",
       "      <th>Werder Bremen</th>\n",
       "      <th>West Bromwich Albion</th>\n",
       "      <th>West Ham</th>\n",
       "      <th>Wolfsburg</th>\n",
       "      <th>Wolverhampton Wanderers</th>\n",
       "    </tr>\n",
       "  </thead>\n",
       "  <tbody>\n",
       "    <tr>\n",
       "      <th>0</th>\n",
       "      <td>27</td>\n",
       "      <td>0</td>\n",
       "      <td>17</td>\n",
       "      <td>28</td>\n",
       "      <td>1</td>\n",
       "      <td>2015</td>\n",
       "      <td>81</td>\n",
       "      <td>1</td>\n",
       "      <td>0</td>\n",
       "      <td>0</td>\n",
       "      <td>...</td>\n",
       "      <td>0</td>\n",
       "      <td>0</td>\n",
       "      <td>0</td>\n",
       "      <td>0</td>\n",
       "      <td>0</td>\n",
       "      <td>0</td>\n",
       "      <td>0</td>\n",
       "      <td>0</td>\n",
       "      <td>0</td>\n",
       "      <td>0</td>\n",
       "    </tr>\n",
       "    <tr>\n",
       "      <th>1</th>\n",
       "      <td>27</td>\n",
       "      <td>0</td>\n",
       "      <td>10</td>\n",
       "      <td>42</td>\n",
       "      <td>1</td>\n",
       "      <td>2015</td>\n",
       "      <td>81</td>\n",
       "      <td>1</td>\n",
       "      <td>0</td>\n",
       "      <td>1</td>\n",
       "      <td>...</td>\n",
       "      <td>0</td>\n",
       "      <td>0</td>\n",
       "      <td>0</td>\n",
       "      <td>0</td>\n",
       "      <td>0</td>\n",
       "      <td>0</td>\n",
       "      <td>0</td>\n",
       "      <td>0</td>\n",
       "      <td>0</td>\n",
       "      <td>0</td>\n",
       "    </tr>\n",
       "    <tr>\n",
       "      <th>2</th>\n",
       "      <td>35</td>\n",
       "      <td>0</td>\n",
       "      <td>12</td>\n",
       "      <td>22</td>\n",
       "      <td>1</td>\n",
       "      <td>2015</td>\n",
       "      <td>81</td>\n",
       "      <td>1</td>\n",
       "      <td>0</td>\n",
       "      <td>1</td>\n",
       "      <td>...</td>\n",
       "      <td>0</td>\n",
       "      <td>0</td>\n",
       "      <td>0</td>\n",
       "      <td>0</td>\n",
       "      <td>0</td>\n",
       "      <td>0</td>\n",
       "      <td>0</td>\n",
       "      <td>0</td>\n",
       "      <td>0</td>\n",
       "      <td>0</td>\n",
       "    </tr>\n",
       "    <tr>\n",
       "      <th>3</th>\n",
       "      <td>35</td>\n",
       "      <td>0</td>\n",
       "      <td>11</td>\n",
       "      <td>36</td>\n",
       "      <td>1</td>\n",
       "      <td>2015</td>\n",
       "      <td>81</td>\n",
       "      <td>1</td>\n",
       "      <td>0</td>\n",
       "      <td>0</td>\n",
       "      <td>...</td>\n",
       "      <td>0</td>\n",
       "      <td>0</td>\n",
       "      <td>0</td>\n",
       "      <td>0</td>\n",
       "      <td>0</td>\n",
       "      <td>0</td>\n",
       "      <td>0</td>\n",
       "      <td>0</td>\n",
       "      <td>0</td>\n",
       "      <td>0</td>\n",
       "    </tr>\n",
       "    <tr>\n",
       "      <th>4</th>\n",
       "      <td>40</td>\n",
       "      <td>0</td>\n",
       "      <td>15</td>\n",
       "      <td>48</td>\n",
       "      <td>1</td>\n",
       "      <td>2015</td>\n",
       "      <td>81</td>\n",
       "      <td>1</td>\n",
       "      <td>0</td>\n",
       "      <td>1</td>\n",
       "      <td>...</td>\n",
       "      <td>0</td>\n",
       "      <td>0</td>\n",
       "      <td>0</td>\n",
       "      <td>0</td>\n",
       "      <td>0</td>\n",
       "      <td>0</td>\n",
       "      <td>0</td>\n",
       "      <td>0</td>\n",
       "      <td>0</td>\n",
       "      <td>0</td>\n",
       "    </tr>\n",
       "  </tbody>\n",
       "</table>\n",
       "<p>5 rows × 287 columns</p>\n",
       "</div>"
      ],
      "text/plain": [
       "   minute  result   X   Y  h_a  season  match_id  h_goals  a_goals  \\\n",
       "0      27       0  17  28    1    2015        81        1        0   \n",
       "1      27       0  10  42    1    2015        81        1        0   \n",
       "2      35       0  12  22    1    2015        81        1        0   \n",
       "3      35       0  11  36    1    2015        81        1        0   \n",
       "4      40       0  15  48    1    2015        81        1        0   \n",
       "\n",
       "   player_assisted  ...  Valencia  Verona  VfB Stuttgart  Villarreal  Watford  \\\n",
       "0                0  ...         0       0              0           0        0   \n",
       "1                1  ...         0       0              0           0        0   \n",
       "2                1  ...         0       0              0           0        0   \n",
       "3                0  ...         0       0              0           0        0   \n",
       "4                1  ...         0       0              0           0        0   \n",
       "\n",
       "   Werder Bremen  West Bromwich Albion  West Ham  Wolfsburg  \\\n",
       "0              0                     0         0          0   \n",
       "1              0                     0         0          0   \n",
       "2              0                     0         0          0   \n",
       "3              0                     0         0          0   \n",
       "4              0                     0         0          0   \n",
       "\n",
       "   Wolverhampton Wanderers  \n",
       "0                        0  \n",
       "1                        0  \n",
       "2                        0  \n",
       "3                        0  \n",
       "4                        0  \n",
       "\n",
       "[5 rows x 287 columns]"
      ]
     },
     "execution_count": 12,
     "metadata": {},
     "output_type": "execute_result"
    }
   ],
   "source": [
    "#I can drop these columns as they are now onehot econoded\n",
    "df = df.drop(columns = ['a_team', 'h_team', 'id'])\n",
    "df.head()"
   ]
  },
  {
   "cell_type": "code",
   "execution_count": 13,
   "id": "255f290e",
   "metadata": {},
   "outputs": [
    {
     "data": {
      "text/plain": [
       "(227614, 287)"
      ]
     },
     "execution_count": 13,
     "metadata": {},
     "output_type": "execute_result"
    }
   ],
   "source": [
    "df.shape"
   ]
  },
  {
   "cell_type": "code",
   "execution_count": 14,
   "id": "da59d071",
   "metadata": {
    "scrolled": true
   },
   "outputs": [
    {
     "name": "stdout",
     "output_type": "stream",
     "text": [
      "<class 'pandas.core.frame.DataFrame'>\n",
      "RangeIndex: 227614 entries, 0 to 227613\n",
      "Columns: 287 entries, minute to Wolverhampton Wanderers\n",
      "dtypes: float64(2), int64(285)\n",
      "memory usage: 498.4 MB\n"
     ]
    }
   ],
   "source": [
    "df.info()"
   ]
  },
  {
   "cell_type": "markdown",
   "id": "adb00ddd",
   "metadata": {},
   "source": [
    "## Logistic Regression"
   ]
  },
  {
   "cell_type": "markdown",
   "id": "9c6112ca",
   "metadata": {},
   "source": [
    "Logistic regression is a supervised learning classification algorithm used to predict the probability of a target variable. The nature of target or dependent variable is dichotomous, which means there would be only two possible classes."
   ]
  },
  {
   "cell_type": "code",
   "execution_count": 15,
   "id": "8674a6dc",
   "metadata": {},
   "outputs": [],
   "source": [
    "#passing features and target to variables \n",
    "\n",
    "#dependent variables \n",
    "X = df.drop(columns='result')\n",
    "y = df['result']"
   ]
  },
  {
   "cell_type": "code",
   "execution_count": 16,
   "id": "1afe4e22",
   "metadata": {},
   "outputs": [],
   "source": [
    "#train test split on our dataset \n",
    "X_train, X_test, y_train, y_test = train_test_split(X, y, test_size=0.2, stratify=y, random_state=1)"
   ]
  },
  {
   "cell_type": "code",
   "execution_count": 17,
   "id": "d3ae41a1",
   "metadata": {},
   "outputs": [],
   "source": [
    "## FIT ONLY ON TRAIN SET\n",
    "scaler = StandardScaler()\n",
    "scaler.fit(X_train) # finds the mean and std of each column\n",
    "\n",
    "\n",
    "### TRANSFORM TRAIN AND TEST with the SAME SCALER\n",
    "X_train = scaler.transform(X_train)\n",
    "X_test = scaler.transform(X_test) # I shift the test columns using the means from the training set\n",
    "\n",
    "logit1 = LogisticRegression().fit(X_train, y_train)"
   ]
  },
  {
   "cell_type": "code",
   "execution_count": 18,
   "id": "d8122967",
   "metadata": {},
   "outputs": [
    {
     "name": "stdout",
     "output_type": "stream",
     "text": [
      "Training accuracy: 0.8936081409844528\n",
      "Testing accuracy: 0.8931968455506007\n"
     ]
    }
   ],
   "source": [
    "print(f'Training accuracy: {logit1.score(X_train,y_train)}')\n",
    "print(f'Testing accuracy: {logit1.score(X_test,y_test)}')"
   ]
  },
  {
   "cell_type": "markdown",
   "id": "8ad25e79",
   "metadata": {},
   "source": [
    "This is a really good score! But is it? Lets dig deeper and take a look at a confusion matrix and classification report to better understand what is happening. "
   ]
  },
  {
   "cell_type": "code",
   "execution_count": 19,
   "id": "6bbf0832",
   "metadata": {
    "scrolled": false
   },
   "outputs": [
    {
     "name": "stdout",
     "output_type": "stream",
     "text": [
      "              precision    recall  f1-score   support\n",
      "\n",
      "           0       0.90      1.00      0.94     40705\n",
      "           1       0.44      0.03      0.06      4818\n",
      "\n",
      "    accuracy                           0.89     45523\n",
      "   macro avg       0.67      0.51      0.50     45523\n",
      "weighted avg       0.85      0.89      0.85     45523\n",
      "\n"
     ]
    },
    {
     "data": {
      "image/png": "[encoded data removed]",
      "text/plain": [
       "<Figure size 432x288 with 2 Axes>"
      ]
     },
     "metadata": {
      "needs_background": "light"
     },
     "output_type": "display_data"
    }
   ],
   "source": [
    "#predictions on test data \n",
    "y_pred = logit1.predict(X_test)\n",
    "\n",
    "#call confusion matrix \n",
    "plot_confusion_matrix(logit1, X_test, y_test, cmap='viridis')\n",
    "\n",
    "print(classification_report(y_test, y_pred))"
   ]
  },
  {
   "cell_type": "code",
   "execution_count": 20,
   "id": "f626d49f",
   "metadata": {},
   "outputs": [
    {
     "data": {
      "text/plain": [
       "45523"
      ]
     },
     "execution_count": 20,
     "metadata": {},
     "output_type": "execute_result"
    }
   ],
   "source": [
    "40506+199+4663+155"
   ]
  },
  {
   "cell_type": "code",
   "execution_count": 21,
   "id": "7641c44d",
   "metadata": {},
   "outputs": [
    {
     "name": "stdout",
     "output_type": "stream",
     "text": [
      "False Positives (Type I error): 0.4371416646530325%\n",
      "False Negatives (Type II error): 10.243173780286888%\n"
     ]
    }
   ],
   "source": [
    "print(f'False Positives (Type I error): {(199/45523)*100}%')\n",
    "print(f'False Negatives (Type II error): {(4663/45523)*100}%')"
   ]
  },
  {
   "cell_type": "markdown",
   "id": "9e0a3e1f",
   "metadata": {},
   "source": [
    "Precision measures what proportion of a model assigned to positive are actually members of the positive class: The percision for our model is 0.44. This means 44% of all class 1 predictions were actually class 1.\n",
    "\n",
    "On the other hand, recall measures how many members of the positive class the model correctly identified out of the total positives: The recall for our model is 0.03. This means 3% of 'actual' class 1 observations are predicted correctly.  \n",
    "\n",
    "False Positives (Type I errors) make up ~ 0.43% of predictions \n",
    "False Negatives (Type II errors) make up ~10% of predictions \n",
    "\n",
    "Now we can understand why we are truly getting a high accuracy. This is due to the highly imbalanced classes that we have. Essentially, almost 89.4% of or observations lie in the no goal class (0). In other words, if our model were to predict everything as a 0 we would still get the same score. "
   ]
  },
  {
   "cell_type": "code",
   "execution_count": 22,
   "id": "e8db47e2",
   "metadata": {},
   "outputs": [
    {
     "data": {
      "text/plain": [
       "0    0.894159\n",
       "1    0.105841\n",
       "Name: result, dtype: float64"
      ]
     },
     "execution_count": 22,
     "metadata": {},
     "output_type": "execute_result"
    }
   ],
   "source": [
    "y.value_counts(normalize=True)"
   ]
  },
  {
   "cell_type": "code",
   "execution_count": 55,
   "id": "6f0b0533",
   "metadata": {},
   "outputs": [
    {
     "data": {
      "image/png": "[encoded data removed]",
      "text/plain": [
       "<Figure size 720x432 with 1 Axes>"
      ]
     },
     "metadata": {
      "needs_background": "light"
     },
     "output_type": "display_data"
    }
   ],
   "source": [
    "plt.figure(figsize=(10,6))\n",
    "sns.histplot(df['result'], discrete=True, shrink=0.8)\n",
    "plt.title(\"Distribution of 'result' values\")\n",
    "plt.show()"
   ]
  },
  {
   "cell_type": "markdown",
   "id": "fd5cbcd1",
   "metadata": {},
   "source": [
    "As we can see we have a very imbalanced dataset that gave us a good score, however when we dug deeper we saw its underlying problems. One approach we could take is upsampling our data. This entails us resampling the observations that belong to the underrepresented class so that our training data consists of equal proportions of each class. Our logistic regression model above didnt really do much. Essentially, it more or less predicted everything as a non goal(0) and gave us a 89% prediction accuracy, but this was useless as we see that this is equivalent to our class imbalabce value.\n"
   ]
  },
  {
   "cell_type": "markdown",
   "id": "00652466",
   "metadata": {},
   "source": [
    "### Upsampling"
   ]
  },
  {
   "cell_type": "markdown",
   "id": "a9d9ff9a",
   "metadata": {},
   "source": [
    "Upsampling is a procedure where synthetically generated data points (corresponding to minority class) are injected into the dataset. After this process, the counts of both labels are almost the same. This equalization procedure prevents the model from inclining towards the majority class."
   ]
  },
  {
   "cell_type": "code",
   "execution_count": 23,
   "id": "45ebcbb8",
   "metadata": {},
   "outputs": [
    {
     "name": "stdout",
     "output_type": "stream",
     "text": [
      "Number of class 1 examples before: 19273\n",
      "Number of class 1 examples after: 162818\n"
     ]
    }
   ],
   "source": [
    "# Upsample\n",
    "print('Number of class 1 examples before:', X_train[y_train == 1].shape[0])\n",
    "\n",
    "X_upsampled, y_upsampled = resample(X_train[y_train == 1], \n",
    "                                    y_train[y_train == 1], \n",
    "                                    replace=True, \n",
    "                                    n_samples=X_train[y_train == 0].shape[0], \n",
    "                                    random_state=123)\n",
    "\n",
    "print('Number of class 1 examples after:', X_upsampled.shape[0])\n",
    "\n",
    "# Combine upsample with original data\n",
    "X_train = np.vstack((X_train[y_train == 0], X_upsampled))\n",
    "y_train = np.hstack((y_train[y_train == 0], y_upsampled))"
   ]
  },
  {
   "cell_type": "code",
   "execution_count": 24,
   "id": "8554b5c9",
   "metadata": {},
   "outputs": [],
   "source": [
    "## FIT ONLY ON TRAIN SET\n",
    "scaler = StandardScaler()\n",
    "scaler.fit(X_train) # finds the mean and std of each column\n",
    "\n",
    "\n",
    "### TRANSFORM TRAIN AND TEST with the SAME SCALER\n",
    "X_train = scaler.transform(X_train)\n",
    "X_test = scaler.transform(X_test) # I shift the test columns using the means from the training set"
   ]
  },
  {
   "cell_type": "code",
   "execution_count": 25,
   "id": "424115f7",
   "metadata": {},
   "outputs": [],
   "source": [
    "#fitting the model\n",
    "logit1 = LogisticRegression().fit(X_train, y_train)"
   ]
  },
  {
   "cell_type": "code",
   "execution_count": 26,
   "id": "d0b05932",
   "metadata": {},
   "outputs": [
    {
     "name": "stdout",
     "output_type": "stream",
     "text": [
      "Training accuracy: 0.7158606542274196\n",
      "Testing accuracy: 0.6922215143993147\n"
     ]
    }
   ],
   "source": [
    "print(f'Training accuracy: {logit1.score(X_train,y_train)}')\n",
    "print(f'Testing accuracy: {logit1.score(X_test,y_test)}')"
   ]
  },
  {
   "cell_type": "markdown",
   "id": "c9f51b04",
   "metadata": {},
   "source": [
    "As we can see our scores have changed severley. Our scores for training and testing have dropped immensely. As we did for our last logistic regression model, we will check our our precision and recall to understand the nitty gritty of our model. "
   ]
  },
  {
   "cell_type": "markdown",
   "id": "4ff45b64",
   "metadata": {},
   "source": [
    "### Confusion Matrix"
   ]
  },
  {
   "cell_type": "markdown",
   "id": "230f7dc3",
   "metadata": {},
   "source": [
    "A Confusion matrix is an N x N matrix used for evaluating the performance of a classification model, where N is the number of target classes. The matrix compares the actual target values with those predicted by the machine learning model."
   ]
  },
  {
   "cell_type": "code",
   "execution_count": 27,
   "id": "763a98f8",
   "metadata": {
    "scrolled": false
   },
   "outputs": [
    {
     "name": "stdout",
     "output_type": "stream",
     "text": [
      "              precision    recall  f1-score   support\n",
      "\n",
      "           0       0.95      0.69      0.80     40705\n",
      "           1       0.22      0.72      0.33      4818\n",
      "\n",
      "    accuracy                           0.69     45523\n",
      "   macro avg       0.59      0.71      0.57     45523\n",
      "weighted avg       0.88      0.69      0.75     45523\n",
      "\n"
     ]
    },
    {
     "data": {
      "image/png": "[encoded data removed]",
      "text/plain": [
       "<Figure size 432x288 with 2 Axes>"
      ]
     },
     "metadata": {
      "needs_background": "light"
     },
     "output_type": "display_data"
    }
   ],
   "source": [
    "#predictions on test data \n",
    "y_pred = logit1.predict(X_test)\n",
    "\n",
    "#call confusion matrix \n",
    "plot_confusion_matrix(logit1, X_test, y_test, cmap='viridis')\n",
    "\n",
    "print(classification_report(y_test, y_pred))"
   ]
  },
  {
   "cell_type": "code",
   "execution_count": 56,
   "id": "e83cd62b",
   "metadata": {},
   "outputs": [
    {
     "name": "stdout",
     "output_type": "stream",
     "text": [
      "False Positives (Type I error): 27.849658414427868%\n",
      "False Negatives (Type II error): 2.928190145640665%\n"
     ]
    }
   ],
   "source": [
    "print(f'False Positives (Type I error): {(12678/45523)*100}%')\n",
    "print(f'False Negatives (Type II error): {(1333/45523)*100}%')"
   ]
  },
  {
   "cell_type": "markdown",
   "id": "eff3c6be",
   "metadata": {},
   "source": [
    "The percision for our model is 0.22. This means 22% of all class 1 predictions were actually class 1. As we can see our percision has dropped by half. \n",
    "\n",
    "On the other hand, The recall for our model is 0.72. This means 72% of 'actual' class 1 observations are predicted correctly.  \n",
    "\n",
    "By definition, F1-score is the harmonic mean of precision and recall. It combines precision and recall into a single number. The F1-score takes both precision and recall into account, which also means it accounts for both FPs and FNs. Due to my highly imbalanced dataset, the best model metric to evaluate is the F1 score. \n",
    "\n",
    "We have a significantly better F1 score as well, it jumped from 0.06 to 0.33 in our newer model.\n",
    "\n",
    "- False Positives (Type I errors) make up ~ 27% of predictions \n",
    "- False Negatives (Type II errors) make up ~ 3% of predictions \n",
    "\n",
    "Now we can understand why the accuracy significantly dropped. "
   ]
  },
  {
   "cell_type": "markdown",
   "id": "234a071a",
   "metadata": {},
   "source": [
    "### ROC Curve "
   ]
  },
  {
   "cell_type": "markdown",
   "id": "0d7ef4c2",
   "metadata": {},
   "source": [
    "An ROC curve is a performance measurement for classification problems at various threshold settings. ROC is a probability curve and AUC represents the degree or measure of separability. It tells how much the model is capable of distinguishing between classes."
   ]
  },
  {
   "cell_type": "code",
   "execution_count": 61,
   "id": "827d6e1a",
   "metadata": {},
   "outputs": [
    {
     "data": {
      "image/png": "[encoded data removed]",
      "text/plain": [
       "<Figure size 432x288 with 1 Axes>"
      ]
     },
     "metadata": {
      "needs_background": "light"
     },
     "output_type": "display_data"
    }
   ],
   "source": [
    "plot_roc_curve(logit1, X_test, y_test)\n",
    "plt.title('ROC Curve: Logistic regression model')\n",
    "plt.show()"
   ]
  },
  {
   "cell_type": "markdown",
   "id": "2d515559",
   "metadata": {},
   "source": [
    "Each point on the curve represents a tradeoff between true and false positive rates. Since we are not assessing for a life threatening disease or a a faulty mechanical issue occuring we are able to allow a higher amount of false positives. Furthermore with AUC value we are protected from the class imbalance that we have in our data. The shape of our roc curves tells us that has a relatively good ability in distinguishing our two classes."
   ]
  },
  {
   "cell_type": "code",
   "execution_count": 69,
   "id": "db8de2c5",
   "metadata": {},
   "outputs": [
    {
     "data": {
      "text/plain": [
       "dict_keys(['C', 'class_weight', 'dual', 'fit_intercept', 'intercept_scaling', 'l1_ratio', 'max_iter', 'multi_class', 'n_jobs', 'penalty', 'random_state', 'solver', 'tol', 'verbose', 'warm_start'])"
      ]
     },
     "execution_count": 69,
     "metadata": {},
     "output_type": "execute_result"
    }
   ],
   "source": [
    "#these are the parameters we can tune in pursuit of the best model\n",
    "LogisticRegression().get_params().keys()"
   ]
  },
  {
   "cell_type": "code",
   "execution_count": 29,
   "id": "f4902369",
   "metadata": {},
   "outputs": [
    {
     "name": "stdout",
     "output_type": "stream",
     "text": [
      "Fitting 5 folds for each of 20 candidates, totalling 100 fits\n",
      "[CV] END model=LogisticRegression(max_iter=1000, random_state=42), model__C=0.01, model__solver=lbfgs, scaler=StandardScaler(); total time=   4.8s\n",
      "[CV] END model=LogisticRegression(max_iter=1000, random_state=42), model__C=0.01, model__solver=lbfgs, scaler=StandardScaler(); total time=   4.3s\n",
      "[CV] END model=LogisticRegression(max_iter=1000, random_state=42), model__C=0.01, model__solver=lbfgs, scaler=StandardScaler(); total time=   5.6s\n",
      "[CV] END model=LogisticRegression(max_iter=1000, random_state=42), model__C=0.01, model__solver=lbfgs, scaler=StandardScaler(); total time=   4.0s\n",
      "[CV] END model=LogisticRegression(max_iter=1000, random_state=42), model__C=0.01, model__solver=lbfgs, scaler=StandardScaler(); total time=   3.9s\n",
      "[CV] END model=LogisticRegression(max_iter=1000, random_state=42), model__C=0.01, model__solver=lbfgs, scaler=MinMaxScaler(); total time=   9.2s\n",
      "[CV] END model=LogisticRegression(max_iter=1000, random_state=42), model__C=0.01, model__solver=lbfgs, scaler=MinMaxScaler(); total time=   7.7s\n",
      "[CV] END model=LogisticRegression(max_iter=1000, random_state=42), model__C=0.01, model__solver=lbfgs, scaler=MinMaxScaler(); total time=   8.0s\n",
      "[CV] END model=LogisticRegression(max_iter=1000, random_state=42), model__C=0.01, model__solver=lbfgs, scaler=MinMaxScaler(); total time=   7.7s\n",
      "[CV] END model=LogisticRegression(max_iter=1000, random_state=42), model__C=0.01, model__solver=lbfgs, scaler=MinMaxScaler(); total time=   7.7s\n",
      "[CV] END model=LogisticRegression(max_iter=1000, random_state=42), model__C=0.01, model__solver=liblinear, scaler=StandardScaler(); total time=  11.5s\n",
      "[CV] END model=LogisticRegression(max_iter=1000, random_state=42), model__C=0.01, model__solver=liblinear, scaler=StandardScaler(); total time=  10.3s\n",
      "[CV] END model=LogisticRegression(max_iter=1000, random_state=42), model__C=0.01, model__solver=liblinear, scaler=StandardScaler(); total time=  11.0s\n",
      "[CV] END model=LogisticRegression(max_iter=1000, random_state=42), model__C=0.01, model__solver=liblinear, scaler=StandardScaler(); total time=  10.6s\n",
      "[CV] END model=LogisticRegression(max_iter=1000, random_state=42), model__C=0.01, model__solver=liblinear, scaler=StandardScaler(); total time=  10.5s\n",
      "[CV] END model=LogisticRegression(max_iter=1000, random_state=42), model__C=0.01, model__solver=liblinear, scaler=MinMaxScaler(); total time=   2.6s\n",
      "[CV] END model=LogisticRegression(max_iter=1000, random_state=42), model__C=0.01, model__solver=liblinear, scaler=MinMaxScaler(); total time=   2.7s\n",
      "[CV] END model=LogisticRegression(max_iter=1000, random_state=42), model__C=0.01, model__solver=liblinear, scaler=MinMaxScaler(); total time=   2.6s\n",
      "[CV] END model=LogisticRegression(max_iter=1000, random_state=42), model__C=0.01, model__solver=liblinear, scaler=MinMaxScaler(); total time=   2.6s\n",
      "[CV] END model=LogisticRegression(max_iter=1000, random_state=42), model__C=0.01, model__solver=liblinear, scaler=MinMaxScaler(); total time=   2.6s\n",
      "[CV] END model=LogisticRegression(max_iter=1000, random_state=42), model__C=0.1, model__solver=lbfgs, scaler=StandardScaler(); total time=   4.0s\n",
      "[CV] END model=LogisticRegression(max_iter=1000, random_state=42), model__C=0.1, model__solver=lbfgs, scaler=StandardScaler(); total time=   3.8s\n",
      "[CV] END model=LogisticRegression(max_iter=1000, random_state=42), model__C=0.1, model__solver=lbfgs, scaler=StandardScaler(); total time=   3.9s\n",
      "[CV] END model=LogisticRegression(max_iter=1000, random_state=42), model__C=0.1, model__solver=lbfgs, scaler=StandardScaler(); total time=   6.4s\n",
      "[CV] END model=LogisticRegression(max_iter=1000, random_state=42), model__C=0.1, model__solver=lbfgs, scaler=StandardScaler(); total time=   4.3s\n",
      "[CV] END model=LogisticRegression(max_iter=1000, random_state=42), model__C=0.1, model__solver=lbfgs, scaler=MinMaxScaler(); total time=  10.7s\n",
      "[CV] END model=LogisticRegression(max_iter=1000, random_state=42), model__C=0.1, model__solver=lbfgs, scaler=MinMaxScaler(); total time=   9.7s\n",
      "[CV] END model=LogisticRegression(max_iter=1000, random_state=42), model__C=0.1, model__solver=lbfgs, scaler=MinMaxScaler(); total time=  12.1s\n",
      "[CV] END model=LogisticRegression(max_iter=1000, random_state=42), model__C=0.1, model__solver=lbfgs, scaler=MinMaxScaler(); total time=  10.3s\n",
      "[CV] END model=LogisticRegression(max_iter=1000, random_state=42), model__C=0.1, model__solver=lbfgs, scaler=MinMaxScaler(); total time=  11.2s\n",
      "[CV] END model=LogisticRegression(max_iter=1000, random_state=42), model__C=0.1, model__solver=liblinear, scaler=StandardScaler(); total time=  11.0s\n",
      "[CV] END model=LogisticRegression(max_iter=1000, random_state=42), model__C=0.1, model__solver=liblinear, scaler=StandardScaler(); total time=  10.6s\n",
      "[CV] END model=LogisticRegression(max_iter=1000, random_state=42), model__C=0.1, model__solver=liblinear, scaler=StandardScaler(); total time=  10.5s\n",
      "[CV] END model=LogisticRegression(max_iter=1000, random_state=42), model__C=0.1, model__solver=liblinear, scaler=StandardScaler(); total time=  10.3s\n",
      "[CV] END model=LogisticRegression(max_iter=1000, random_state=42), model__C=0.1, model__solver=liblinear, scaler=StandardScaler(); total time=  10.6s\n",
      "[CV] END model=LogisticRegression(max_iter=1000, random_state=42), model__C=0.1, model__solver=liblinear, scaler=MinMaxScaler(); total time=   2.8s\n",
      "[CV] END model=LogisticRegression(max_iter=1000, random_state=42), model__C=0.1, model__solver=liblinear, scaler=MinMaxScaler(); total time=   4.0s\n",
      "[CV] END model=LogisticRegression(max_iter=1000, random_state=42), model__C=0.1, model__solver=liblinear, scaler=MinMaxScaler(); total time=   2.8s\n",
      "[CV] END model=LogisticRegression(max_iter=1000, random_state=42), model__C=0.1, model__solver=liblinear, scaler=MinMaxScaler(); total time=   3.1s\n",
      "[CV] END model=LogisticRegression(max_iter=1000, random_state=42), model__C=0.1, model__solver=liblinear, scaler=MinMaxScaler(); total time=   3.1s\n",
      "[CV] END model=LogisticRegression(max_iter=1000, random_state=42), model__C=1, model__solver=lbfgs, scaler=StandardScaler(); total time=   4.0s\n",
      "[CV] END model=LogisticRegression(max_iter=1000, random_state=42), model__C=1, model__solver=lbfgs, scaler=StandardScaler(); total time=   3.9s\n",
      "[CV] END model=LogisticRegression(max_iter=1000, random_state=42), model__C=1, model__solver=lbfgs, scaler=StandardScaler(); total time=   3.9s\n",
      "[CV] END model=LogisticRegression(max_iter=1000, random_state=42), model__C=1, model__solver=lbfgs, scaler=StandardScaler(); total time=   5.4s\n",
      "[CV] END model=LogisticRegression(max_iter=1000, random_state=42), model__C=1, model__solver=lbfgs, scaler=StandardScaler(); total time=   5.4s\n",
      "[CV] END model=LogisticRegression(max_iter=1000, random_state=42), model__C=1, model__solver=lbfgs, scaler=MinMaxScaler(); total time=  13.5s\n",
      "[CV] END model=LogisticRegression(max_iter=1000, random_state=42), model__C=1, model__solver=lbfgs, scaler=MinMaxScaler(); total time=  12.9s\n",
      "[CV] END model=LogisticRegression(max_iter=1000, random_state=42), model__C=1, model__solver=lbfgs, scaler=MinMaxScaler(); total time=  12.2s\n",
      "[CV] END model=LogisticRegression(max_iter=1000, random_state=42), model__C=1, model__solver=lbfgs, scaler=MinMaxScaler(); total time=  10.5s\n",
      "[CV] END model=LogisticRegression(max_iter=1000, random_state=42), model__C=1, model__solver=lbfgs, scaler=MinMaxScaler(); total time=  12.4s\n",
      "[CV] END model=LogisticRegression(max_iter=1000, random_state=42), model__C=1, model__solver=liblinear, scaler=StandardScaler(); total time=  12.0s\n",
      "[CV] END model=LogisticRegression(max_iter=1000, random_state=42), model__C=1, model__solver=liblinear, scaler=StandardScaler(); total time=  10.5s\n",
      "[CV] END model=LogisticRegression(max_iter=1000, random_state=42), model__C=1, model__solver=liblinear, scaler=StandardScaler(); total time=  10.7s\n",
      "[CV] END model=LogisticRegression(max_iter=1000, random_state=42), model__C=1, model__solver=liblinear, scaler=StandardScaler(); total time=  10.5s\n",
      "[CV] END model=LogisticRegression(max_iter=1000, random_state=42), model__C=1, model__solver=liblinear, scaler=StandardScaler(); total time=  10.3s\n",
      "[CV] END model=LogisticRegression(max_iter=1000, random_state=42), model__C=1, model__solver=liblinear, scaler=MinMaxScaler(); total time=   3.0s\n"
     ]
    },
    {
     "name": "stdout",
     "output_type": "stream",
     "text": [
      "[CV] END model=LogisticRegression(max_iter=1000, random_state=42), model__C=1, model__solver=liblinear, scaler=MinMaxScaler(); total time=   2.9s\n",
      "[CV] END model=LogisticRegression(max_iter=1000, random_state=42), model__C=1, model__solver=liblinear, scaler=MinMaxScaler(); total time=   2.9s\n",
      "[CV] END model=LogisticRegression(max_iter=1000, random_state=42), model__C=1, model__solver=liblinear, scaler=MinMaxScaler(); total time=   2.8s\n",
      "[CV] END model=LogisticRegression(max_iter=1000, random_state=42), model__C=1, model__solver=liblinear, scaler=MinMaxScaler(); total time=   2.9s\n",
      "[CV] END model=LogisticRegression(max_iter=1000, random_state=42), model__C=10, model__solver=lbfgs, scaler=StandardScaler(); total time=   4.0s\n",
      "[CV] END model=LogisticRegression(max_iter=1000, random_state=42), model__C=10, model__solver=lbfgs, scaler=StandardScaler(); total time=   3.8s\n",
      "[CV] END model=LogisticRegression(max_iter=1000, random_state=42), model__C=10, model__solver=lbfgs, scaler=StandardScaler(); total time=   4.0s\n",
      "[CV] END model=LogisticRegression(max_iter=1000, random_state=42), model__C=10, model__solver=lbfgs, scaler=StandardScaler(); total time=   4.0s\n",
      "[CV] END model=LogisticRegression(max_iter=1000, random_state=42), model__C=10, model__solver=lbfgs, scaler=StandardScaler(); total time=   4.0s\n",
      "[CV] END model=LogisticRegression(max_iter=1000, random_state=42), model__C=10, model__solver=lbfgs, scaler=MinMaxScaler(); total time=  13.1s\n",
      "[CV] END model=LogisticRegression(max_iter=1000, random_state=42), model__C=10, model__solver=lbfgs, scaler=MinMaxScaler(); total time=  13.1s\n",
      "[CV] END model=LogisticRegression(max_iter=1000, random_state=42), model__C=10, model__solver=lbfgs, scaler=MinMaxScaler(); total time=  12.9s\n",
      "[CV] END model=LogisticRegression(max_iter=1000, random_state=42), model__C=10, model__solver=lbfgs, scaler=MinMaxScaler(); total time=  11.4s\n",
      "[CV] END model=LogisticRegression(max_iter=1000, random_state=42), model__C=10, model__solver=lbfgs, scaler=MinMaxScaler(); total time=  15.4s\n",
      "[CV] END model=LogisticRegression(max_iter=1000, random_state=42), model__C=10, model__solver=liblinear, scaler=StandardScaler(); total time=  10.3s\n",
      "[CV] END model=LogisticRegression(max_iter=1000, random_state=42), model__C=10, model__solver=liblinear, scaler=StandardScaler(); total time=  10.5s\n",
      "[CV] END model=LogisticRegression(max_iter=1000, random_state=42), model__C=10, model__solver=liblinear, scaler=StandardScaler(); total time=  10.3s\n",
      "[CV] END model=LogisticRegression(max_iter=1000, random_state=42), model__C=10, model__solver=liblinear, scaler=StandardScaler(); total time=  10.4s\n",
      "[CV] END model=LogisticRegression(max_iter=1000, random_state=42), model__C=10, model__solver=liblinear, scaler=StandardScaler(); total time=  10.5s\n",
      "[CV] END model=LogisticRegression(max_iter=1000, random_state=42), model__C=10, model__solver=liblinear, scaler=MinMaxScaler(); total time=   2.9s\n",
      "[CV] END model=LogisticRegression(max_iter=1000, random_state=42), model__C=10, model__solver=liblinear, scaler=MinMaxScaler(); total time=   2.8s\n",
      "[CV] END model=LogisticRegression(max_iter=1000, random_state=42), model__C=10, model__solver=liblinear, scaler=MinMaxScaler(); total time=   2.8s\n",
      "[CV] END model=LogisticRegression(max_iter=1000, random_state=42), model__C=10, model__solver=liblinear, scaler=MinMaxScaler(); total time=   3.1s\n",
      "[CV] END model=LogisticRegression(max_iter=1000, random_state=42), model__C=10, model__solver=liblinear, scaler=MinMaxScaler(); total time=   2.9s\n",
      "[CV] END model=LogisticRegression(max_iter=1000, random_state=42), model__C=100, model__solver=lbfgs, scaler=StandardScaler(); total time=   3.8s\n",
      "[CV] END model=LogisticRegression(max_iter=1000, random_state=42), model__C=100, model__solver=lbfgs, scaler=StandardScaler(); total time=   3.8s\n",
      "[CV] END model=LogisticRegression(max_iter=1000, random_state=42), model__C=100, model__solver=lbfgs, scaler=StandardScaler(); total time=   3.8s\n",
      "[CV] END model=LogisticRegression(max_iter=1000, random_state=42), model__C=100, model__solver=lbfgs, scaler=StandardScaler(); total time=   7.7s\n",
      "[CV] END model=LogisticRegression(max_iter=1000, random_state=42), model__C=100, model__solver=lbfgs, scaler=StandardScaler(); total time=   5.8s\n",
      "[CV] END model=LogisticRegression(max_iter=1000, random_state=42), model__C=100, model__solver=lbfgs, scaler=MinMaxScaler(); total time= 3.4min\n",
      "[CV] END model=LogisticRegression(max_iter=1000, random_state=42), model__C=100, model__solver=lbfgs, scaler=MinMaxScaler(); total time=  31.3s\n",
      "[CV] END model=LogisticRegression(max_iter=1000, random_state=42), model__C=100, model__solver=lbfgs, scaler=MinMaxScaler(); total time=19.2min\n",
      "[CV] END model=LogisticRegression(max_iter=1000, random_state=42), model__C=100, model__solver=lbfgs, scaler=MinMaxScaler(); total time=  11.8s\n",
      "[CV] END model=LogisticRegression(max_iter=1000, random_state=42), model__C=100, model__solver=lbfgs, scaler=MinMaxScaler(); total time=  13.5s\n",
      "[CV] END model=LogisticRegression(max_iter=1000, random_state=42), model__C=100, model__solver=liblinear, scaler=StandardScaler(); total time=  11.5s\n",
      "[CV] END model=LogisticRegression(max_iter=1000, random_state=42), model__C=100, model__solver=liblinear, scaler=StandardScaler(); total time=  10.5s\n",
      "[CV] END model=LogisticRegression(max_iter=1000, random_state=42), model__C=100, model__solver=liblinear, scaler=StandardScaler(); total time=  10.4s\n",
      "[CV] END model=LogisticRegression(max_iter=1000, random_state=42), model__C=100, model__solver=liblinear, scaler=StandardScaler(); total time=  10.7s\n",
      "[CV] END model=LogisticRegression(max_iter=1000, random_state=42), model__C=100, model__solver=liblinear, scaler=StandardScaler(); total time=  10.6s\n",
      "[CV] END model=LogisticRegression(max_iter=1000, random_state=42), model__C=100, model__solver=liblinear, scaler=MinMaxScaler(); total time=   2.8s\n",
      "[CV] END model=LogisticRegression(max_iter=1000, random_state=42), model__C=100, model__solver=liblinear, scaler=MinMaxScaler(); total time=   2.9s\n",
      "[CV] END model=LogisticRegression(max_iter=1000, random_state=42), model__C=100, model__solver=liblinear, scaler=MinMaxScaler(); total time=   2.8s\n",
      "[CV] END model=LogisticRegression(max_iter=1000, random_state=42), model__C=100, model__solver=liblinear, scaler=MinMaxScaler(); total time=   3.2s\n",
      "[CV] END model=LogisticRegression(max_iter=1000, random_state=42), model__C=100, model__solver=liblinear, scaler=MinMaxScaler(); total time=   3.3s\n"
     ]
    }
   ],
   "source": [
    "#instantiate model features \n",
    "estimators = [('scaler',StandardScaler()), \n",
    "              ('model', LogisticRegression())]\n",
    "\n",
    "pipe = Pipeline(estimators)\n",
    "\n",
    "#define model feature parameters to be iterated over \n",
    "params = [\n",
    "            {\n",
    "            'model': [LogisticRegression(random_state=42, max_iter=1000)],\n",
    "            'scaler': [StandardScaler(), MinMaxScaler()],\n",
    "            'model__C': [0.01, 0.1, 1, 10, 100],\n",
    "            'model__solver': ['lbfgs', 'liblinear']\n",
    "            }\n",
    "]\n",
    "\n",
    "#consolidate all iterations into one loop\n",
    "grid_search_logit = GridSearchCV(pipe, param_grid=params, cv=5, verbose=2)\n",
    "\n",
    "#fit model specifications \n",
    "fitted_search_logit = grid_search_logit.fit(X_train, y_train)"
   ]
  },
  {
   "cell_type": "code",
   "execution_count": 30,
   "id": "c074aeea",
   "metadata": {},
   "outputs": [
    {
     "data": {
      "text/plain": [
       "['fitted_search_logit.pkl']"
      ]
     },
     "execution_count": 30,
     "metadata": {},
     "output_type": "execute_result"
    }
   ],
   "source": [
    "#saving our model as a pkl file as it takes extensive time to run\n",
    "joblib.dump(fitted_search_logit, \"fitted_search_logit.pkl\")"
   ]
  },
  {
   "cell_type": "code",
   "execution_count": 31,
   "id": "707f2133",
   "metadata": {},
   "outputs": [],
   "source": [
    "#checking it loads\n",
    "fitted_search_logit = joblib.load(\"fitted_search_logit.pkl\") "
   ]
  },
  {
   "cell_type": "code",
   "execution_count": 32,
   "id": "329c4f97",
   "metadata": {},
   "outputs": [
    {
     "data": {
      "text/plain": [
       "{'model': LogisticRegression(C=1, max_iter=1000, random_state=42, solver='liblinear'),\n",
       " 'model__C': 1,\n",
       " 'model__solver': 'liblinear',\n",
       " 'scaler': MinMaxScaler()}"
      ]
     },
     "execution_count": 32,
     "metadata": {},
     "output_type": "execute_result"
    }
   ],
   "source": [
    "#outputs the best model from the above gridsearchCV\n",
    "fitted_search_logit.best_params_"
   ]
  },
  {
   "cell_type": "code",
   "execution_count": 33,
   "id": "7b762331",
   "metadata": {},
   "outputs": [
    {
     "name": "stdout",
     "output_type": "stream",
     "text": [
      "Optimized logistic regression model:\n",
      "Train accuracy: 71.58330160056013%\n",
      "Test accuracy: 69.22434813171364%\n"
     ]
    }
   ],
   "source": [
    "#instantiate model with the optimized hyperparameters \n",
    "logit_optimal = fitted_search_logit.best_params_['model']\n",
    "\n",
    "#fit model to original train data \n",
    "logit_optimal.fit(X_train, y_train)\n",
    "\n",
    "#evaluate model performance \n",
    "logit_optimal_train_acc = logit_optimal.score(X_train, y_train)\n",
    "logit_optimal_test_acc = logit_optimal.score(X_test, y_test)\n",
    "\n",
    "print(f'Optimized logistic regression model:')\n",
    "print(f'Train accuracy: {100*(logit_optimal_train_acc)}%')\n",
    "print(f'Test accuracy: {100*(logit_optimal_test_acc)}%')"
   ]
  },
  {
   "cell_type": "markdown",
   "id": "54175290",
   "metadata": {},
   "source": [
    "We can see that the score in our optimized logistic regression is almost identical to the baseline logistic regression we modelled above."
   ]
  },
  {
   "cell_type": "code",
   "execution_count": 59,
   "id": "a44dd948",
   "metadata": {},
   "outputs": [
    {
     "name": "stdout",
     "output_type": "stream",
     "text": [
      "              precision    recall  f1-score   support\n",
      "\n",
      "           0       0.95      0.69      0.80     40705\n",
      "           1       0.22      0.72      0.33      4818\n",
      "\n",
      "    accuracy                           0.69     45523\n",
      "   macro avg       0.59      0.71      0.57     45523\n",
      "weighted avg       0.88      0.69      0.75     45523\n",
      "\n"
     ]
    },
    {
     "data": {
      "image/png": "[encoded data removed]",
      "text/plain": [
       "<Figure size 432x288 with 2 Axes>"
      ]
     },
     "metadata": {
      "needs_background": "light"
     },
     "output_type": "display_data"
    }
   ],
   "source": [
    "#predictions on test data \n",
    "y_pred = logit_optimal.predict(X_test)\n",
    "\n",
    "#call confusion matrix \n",
    "plot_confusion_matrix(logit_optimal, X_test, y_test, cmap='viridis')\n",
    "\n",
    "print(classification_report(y_test, y_pred))"
   ]
  },
  {
   "cell_type": "code",
   "execution_count": 70,
   "id": "6f47a0bc",
   "metadata": {},
   "outputs": [
    {
     "data": {
      "image/png": "[encoded data removed]",
      "text/plain": [
       "<Figure size 432x288 with 1 Axes>"
      ]
     },
     "metadata": {
      "needs_background": "light"
     },
     "output_type": "display_data"
    }
   ],
   "source": [
    "#plotting the roc curve with AUC value \n",
    "plot_roc_curve(logit_optimal, X_test, y_test)\n",
    "plt.title('ROC Curve: Logistic regression model (optimal)')\n",
    "plt.show()"
   ]
  },
  {
   "cell_type": "markdown",
   "id": "262c73e4",
   "metadata": {},
   "source": [
    "Gives us identical values from the above logistic regression"
   ]
  },
  {
   "cell_type": "markdown",
   "id": "a00bad58",
   "metadata": {},
   "source": [
    "## KNN"
   ]
  },
  {
   "cell_type": "markdown",
   "id": "ac71d184",
   "metadata": {},
   "source": [
    "KNN is a model that classifies data points based on the points that are most similar to it distance wise. It uses test data to make an “educated guess” on what an unclassified point should be classified as. "
   ]
  },
  {
   "cell_type": "code",
   "execution_count": 34,
   "id": "e0b747ac",
   "metadata": {},
   "outputs": [
    {
     "name": "stdout",
     "output_type": "stream",
     "text": [
      "Using the default number of neighbors: 5\n",
      "Train Accuracy: 0.9077620410519721\n",
      "Test Accuracy: 0.7042813522834611\n"
     ]
    }
   ],
   "source": [
    "#Our data is already scaled \n",
    "\n",
    "#Fit the default KNN model\n",
    "KNN_model = KNeighborsClassifier()\n",
    "KNN_model.fit(X_train, y_train)\n",
    "\n",
    "print(\"Using the default number of neighbors:\", KNN_model.n_neighbors)\n",
    "print(\"Train Accuracy:\", KNN_model.score(X_train, y_train))\n",
    "print(\"Test Accuracy:\", KNN_model.score(X_test, y_test))"
   ]
  },
  {
   "cell_type": "code",
   "execution_count": 35,
   "id": "17cba728",
   "metadata": {},
   "outputs": [
    {
     "data": {
      "text/plain": [
       "['KNN_model.pkl']"
      ]
     },
     "execution_count": 35,
     "metadata": {},
     "output_type": "execute_result"
    }
   ],
   "source": [
    "joblib.dump(KNN_model, \"KNN_model.pkl\")"
   ]
  },
  {
   "cell_type": "code",
   "execution_count": 36,
   "id": "692795ed",
   "metadata": {},
   "outputs": [],
   "source": [
    "KNN_model = joblib.load(\"KNN_model.pkl\")"
   ]
  },
  {
   "cell_type": "markdown",
   "id": "b4d24231",
   "metadata": {},
   "source": [
    "We see some major improvements in the training data while using the KNN model. \n",
    "Our best logistic regression training score from our optimized logistic regression was 71.58%. When using our base KNN it was 90.74%. However the testing data has only slightly improved from 69.22% to 70.35%. "
   ]
  },
  {
   "cell_type": "code",
   "execution_count": 57,
   "id": "59277b7a",
   "metadata": {
    "scrolled": false
   },
   "outputs": [
    {
     "name": "stdout",
     "output_type": "stream",
     "text": [
      "              precision    recall  f1-score   support\n",
      "\n",
      "           0       0.91      0.74      0.82     40705\n",
      "           1       0.15      0.37      0.21      4818\n",
      "\n",
      "    accuracy                           0.70     45523\n",
      "   macro avg       0.53      0.56      0.51     45523\n",
      "weighted avg       0.83      0.70      0.75     45523\n",
      "\n"
     ]
    },
    {
     "data": {
      "image/png": "[encoded data removed]",
      "text/plain": [
       "<Figure size 432x288 with 2 Axes>"
      ]
     },
     "metadata": {
      "needs_background": "light"
     },
     "output_type": "display_data"
    }
   ],
   "source": [
    "#predictions on test data \n",
    "y_pred = KNN_model.predict(X_test)\n",
    "\n",
    "#call confusion matrix \n",
    "plot_confusion_matrix(KNN_model, X_test, y_test, cmap='viridis')\n",
    "\n",
    "print(classification_report(y_test, y_pred))"
   ]
  },
  {
   "cell_type": "markdown",
   "id": "9766a75d",
   "metadata": {},
   "source": [
    "We can see here that our model has a percision of 0.15, this decreased from our optimal logistic regression model.Pur recall has also decreased from 0.72 to 0.37. Even thought our model gave us slightly better results our perision and recall values have decreased. Since our percision and recall have both dropped it is expected to see a drop in the F1 score, as we can see it has dropped from 0.33 to 0.21. "
   ]
  },
  {
   "cell_type": "code",
   "execution_count": 62,
   "id": "13bd760e",
   "metadata": {},
   "outputs": [
    {
     "data": {
      "image/png": "[encoded data removed]",
      "text/plain": [
       "<Figure size 432x288 with 1 Axes>"
      ]
     },
     "metadata": {
      "needs_background": "light"
     },
     "output_type": "display_data"
    }
   ],
   "source": [
    "plot_roc_curve(KNN_model, X_test, y_test)\n",
    "plt.title('ROC Curve:KNN')\n",
    "plt.show()"
   ]
  },
  {
   "cell_type": "markdown",
   "id": "18c0f638",
   "metadata": {},
   "source": [
    "We can see a decrease in our Area under the curve (AUC) score from 0.77 to 0.58. This was expected after inspecting our results in the confusion matrix. Also we can see that the shape of our ROC curve has changed. Our Roc curve in our logistic regression model was more concave shaped, here we have more of a linear shape. This is tells us that the classifier is not able to distinguish between Positive and Negative class points very well. \n",
    "So, the higher the AUC value for a classifier, the better its ability to distinguish between positive and negative classes."
   ]
  },
  {
   "cell_type": "code",
   "execution_count": 68,
   "id": "6d2e68fc",
   "metadata": {},
   "outputs": [
    {
     "data": {
      "text/plain": [
       "dict_keys(['algorithm', 'leaf_size', 'metric', 'metric_params', 'n_jobs', 'n_neighbors', 'p', 'weights'])"
      ]
     },
     "execution_count": 68,
     "metadata": {},
     "output_type": "execute_result"
    }
   ],
   "source": [
    "#these are the parameters we can tune in pursuit of the best model\n",
    "KNeighborsClassifier().get_params().keys()"
   ]
  },
  {
   "cell_type": "code",
   "execution_count": 37,
   "id": "573158e1",
   "metadata": {
    "scrolled": false
   },
   "outputs": [
    {
     "name": "stdout",
     "output_type": "stream",
     "text": [
      "Fitting 5 folds for each of 2 candidates, totalling 10 fits\n",
      "[CV] END model=KNeighborsClassifier(), model__metric=euclidean, model__n_neighbors=10, model__weights=uniform, scaler=StandardScaler(); total time= 6.7min\n",
      "[CV] END model=KNeighborsClassifier(), model__metric=euclidean, model__n_neighbors=10, model__weights=uniform, scaler=StandardScaler(); total time= 6.3min\n",
      "[CV] END model=KNeighborsClassifier(), model__metric=euclidean, model__n_neighbors=10, model__weights=uniform, scaler=StandardScaler(); total time= 6.2min\n",
      "[CV] END model=KNeighborsClassifier(), model__metric=euclidean, model__n_neighbors=10, model__weights=uniform, scaler=StandardScaler(); total time= 7.4min\n",
      "[CV] END model=KNeighborsClassifier(), model__metric=euclidean, model__n_neighbors=10, model__weights=uniform, scaler=StandardScaler(); total time= 5.3min\n",
      "[CV] END model=KNeighborsClassifier(), model__metric=euclidean, model__n_neighbors=15, model__weights=uniform, scaler=StandardScaler(); total time= 7.9min\n",
      "[CV] END model=KNeighborsClassifier(), model__metric=euclidean, model__n_neighbors=15, model__weights=uniform, scaler=StandardScaler(); total time= 6.8min\n",
      "[CV] END model=KNeighborsClassifier(), model__metric=euclidean, model__n_neighbors=15, model__weights=uniform, scaler=StandardScaler(); total time= 6.5min\n",
      "[CV] END model=KNeighborsClassifier(), model__metric=euclidean, model__n_neighbors=15, model__weights=uniform, scaler=StandardScaler(); total time= 6.9min\n",
      "[CV] END model=KNeighborsClassifier(), model__metric=euclidean, model__n_neighbors=15, model__weights=uniform, scaler=StandardScaler(); total time= 5.3min\n"
     ]
    }
   ],
   "source": [
    "#instantiate model features \n",
    "estimators = [('scaler',StandardScaler()), \n",
    "              ('model', KNeighborsClassifier())]\n",
    "\n",
    "pipe = Pipeline(estimators)\n",
    "\n",
    "\n",
    "#define model feature parameters to be iterated over \n",
    "#I could have used different scalers (such as MinMaxScaler), I could have added more neighbours \n",
    "#I could have added more 'model__weights' such as 'distance', and 'model__metric' such as 'manhattan' and 'minkowski'\n",
    "# we can use the \"KNeighborsClassifier().get_params().keys()\" to see what other parameters could be used \n",
    "#I wont run 5 for n_neighbors as the above basic KNN model gives me that result, so i will try 10 and 15 n_neighbours \n",
    "#to save time, due to time constraints \n",
    "params = [\n",
    "            {\n",
    "            'model': [KNeighborsClassifier()],\n",
    "            'scaler': [StandardScaler()],\n",
    "            'model__n_neighbors': [10, 15],\n",
    "            'model__weights' : ['uniform'],\n",
    "            'model__metric': ['euclidean'] \n",
    "            }\n",
    "]\n",
    "\n",
    "#consolidate all iterations into one loop\n",
    "grid_search_knn = GridSearchCV(pipe, param_grid=params, cv=5, verbose=2)\n",
    "\n",
    "#fit model specifications \n",
    "fitted_search_knn = grid_search_knn.fit(X_train, y_train)"
   ]
  },
  {
   "cell_type": "code",
   "execution_count": 38,
   "id": "7aeadc18",
   "metadata": {},
   "outputs": [
    {
     "data": {
      "text/plain": [
       "['fitted_search_knn.pkl']"
      ]
     },
     "execution_count": 38,
     "metadata": {},
     "output_type": "execute_result"
    }
   ],
   "source": [
    "joblib.dump(fitted_search_knn, \"fitted_search_knn.pkl\")"
   ]
  },
  {
   "cell_type": "code",
   "execution_count": 39,
   "id": "f4b0f973",
   "metadata": {},
   "outputs": [],
   "source": [
    "fitted_search_knn = joblib.load(\"fitted_search_knn.pkl\") "
   ]
  },
  {
   "cell_type": "code",
   "execution_count": 40,
   "id": "87ffab30",
   "metadata": {},
   "outputs": [
    {
     "data": {
      "text/plain": [
       "{'model': KNeighborsClassifier(metric='euclidean', n_neighbors=10),\n",
       " 'model__metric': 'euclidean',\n",
       " 'model__n_neighbors': 10,\n",
       " 'model__weights': 'uniform',\n",
       " 'scaler': StandardScaler()}"
      ]
     },
     "execution_count": 40,
     "metadata": {},
     "output_type": "execute_result"
    }
   ],
   "source": [
    "fitted_search_knn.best_params_"
   ]
  },
  {
   "cell_type": "code",
   "execution_count": 41,
   "id": "3fc93594",
   "metadata": {},
   "outputs": [
    {
     "name": "stdout",
     "output_type": "stream",
     "text": [
      "Optimized KNN model:\n",
      "Train accuracy: 83.32432532029628%\n",
      "Test accuracy: 63.05384091558114%\n"
     ]
    }
   ],
   "source": [
    "#instantiate model with the optimized hyperparameters \n",
    "knn_optimal = fitted_search_knn.best_params_['model']\n",
    "\n",
    "#fit model to original train data \n",
    "knn_optimal.fit(X_train, y_train)\n",
    "\n",
    "#evaluate model performance \n",
    "knn_optimal_train_acc = knn_optimal.score(X_train, y_train)\n",
    "knn_optimal_test_acc = knn_optimal.score(X_test, y_test)\n",
    "\n",
    "print(f'Optimized KNN model:')\n",
    "print(f'Train accuracy: {100*(knn_optimal_train_acc)}%')\n",
    "print(f'Test accuracy: {100*(knn_optimal_test_acc)}%')"
   ]
  },
  {
   "cell_type": "markdown",
   "id": "84c2597a",
   "metadata": {},
   "source": [
    "We got an decline in our results from our base KNN model. Our training accuracy and test accuracy went down by 7% from our base knn model. We should investigate this a bit more to see what really happened here. "
   ]
  },
  {
   "cell_type": "code",
   "execution_count": 64,
   "id": "56b9e2d4",
   "metadata": {},
   "outputs": [
    {
     "name": "stdout",
     "output_type": "stream",
     "text": [
      "              precision    recall  f1-score   support\n",
      "\n",
      "           0       0.91      0.65      0.76     40705\n",
      "           1       0.14      0.48      0.22      4818\n",
      "\n",
      "    accuracy                           0.63     45523\n",
      "   macro avg       0.53      0.57      0.49     45523\n",
      "weighted avg       0.83      0.63      0.70     45523\n",
      "\n"
     ]
    },
    {
     "data": {
      "image/png": "[encoded data removed]",
      "text/plain": [
       "<Figure size 432x288 with 2 Axes>"
      ]
     },
     "metadata": {
      "needs_background": "light"
     },
     "output_type": "display_data"
    }
   ],
   "source": [
    "#predictions on test data \n",
    "y_pred = knn_optimal.predict(X_test)\n",
    "\n",
    "#call confusion matrix \n",
    "plot_confusion_matrix(knn_optimal, X_test, y_test, cmap='viridis')\n",
    "\n",
    "print(classification_report(y_test, y_pred))"
   ]
  },
  {
   "cell_type": "markdown",
   "id": "13f1acdc",
   "metadata": {},
   "source": [
    "As we can see our precision score has slightly decreased from 0.15 to 0.15 from our last knn model but our recall has increased from 0.37 to 0.48. Our F1 score has slightly gone up from 0.21 to 0.22. However the F1 score is still lower than that of our logistic regression. For the purposes of this project we will use the f1 score to measure our best model. "
   ]
  },
  {
   "cell_type": "code",
   "execution_count": 65,
   "id": "2a9b508e",
   "metadata": {},
   "outputs": [
    {
     "data": {
      "image/png": "[encoded data removed]",
      "text/plain": [
       "<Figure size 432x288 with 1 Axes>"
      ]
     },
     "metadata": {
      "needs_background": "light"
     },
     "output_type": "display_data"
    }
   ],
   "source": [
    "plot_roc_curve(knn_optimal, X_test, y_test)\n",
    "plt.title('ROC Curve:KNN optimal')\n",
    "plt.show()"
   ]
  },
  {
   "cell_type": "markdown",
   "id": "79b96e7d",
   "metadata": {},
   "source": [
    "We can see that the ROC cure for our optimal knn model has more or less the same shape as our basic knn model which looks linear. The AUC has increased minimally bu 0.01 from 0.58 to 0.59. compared to out logistic regression model this is quite low as the AUC in our logistic regression model is 0.77."
   ]
  },
  {
   "cell_type": "markdown",
   "id": "558512f9",
   "metadata": {},
   "source": [
    "## SVM"
   ]
  },
  {
   "cell_type": "markdown",
   "id": "6692b11f",
   "metadata": {},
   "source": [
    "SVM works by mapping data to a high-dimensional feature space so that data points can be categorized, even when the data are not otherwise linearly separable. A separator between the categories is found, then the data are transformed in such a way that the separator could be drawn as a hyperplane."
   ]
  },
  {
   "cell_type": "code",
   "execution_count": 42,
   "id": "68984b37",
   "metadata": {},
   "outputs": [],
   "source": [
    "#svc = svm.SVC()\n",
    "\n",
    "#instantiate model features \n",
    "#estimators = [('scaler',StandardScaler()), ('model',SVC())]\n",
    "\n",
    "#instantiate the pipeline \n",
    "#pipe = Pipeline(estimators)\n",
    "\n",
    "#define model feature parameters to be iterated over \n",
    "#params = [\n",
    "          #{'model': [SVC()],\n",
    "           #'scaler': [MinMaxScaler()],\n",
    "           #'model__C': [5, 10],\n",
    "           #'model__kernel': ('linear', 'rbf')}\n",
    "#]\n",
    "\n",
    "#consolidate all iterations into one loop\n",
    "#grid_search_svm = GridSearchCV(pipe, param_grid=params, cv=5, verbose=2)\n",
    "\n",
    "#fit model specifications \n",
    "#fitted_search = grid_search_svm.fit(X_train, y_train)"
   ]
  },
  {
   "cell_type": "code",
   "execution_count": 43,
   "id": "33a9fe9a",
   "metadata": {},
   "outputs": [],
   "source": [
    "#joblib.dump(fitted_search_svm, \"fitted_search_svm.pkl\")"
   ]
  },
  {
   "cell_type": "code",
   "execution_count": 44,
   "id": "51e65f61",
   "metadata": {},
   "outputs": [],
   "source": [
    "#fitted_search_svm = joblib.load(\"fitted_search_svm.pkl\") "
   ]
  },
  {
   "cell_type": "code",
   "execution_count": 45,
   "id": "4da336eb",
   "metadata": {},
   "outputs": [],
   "source": [
    "#fitted_search_svm.best_params_"
   ]
  },
  {
   "cell_type": "code",
   "execution_count": 46,
   "id": "b598e89a",
   "metadata": {},
   "outputs": [],
   "source": [
    "#instantiate model with the optimized hyperparameters \n",
    "#svm_optimal = fitted_search_svm.best_params_['model']\n",
    "\n",
    "#fit model to original train data \n",
    "#svm_optimal.fit(X_train, y_train)\n",
    "\n",
    "#evaluate model performance \n",
    "#svm_optimal_train_acc = svm_optimal.score(X_train, y_train)\n",
    "#svm_optimal_test_acc = svm_optimal.score(X_test, y_test)\n",
    "\n",
    "#print(f'Optimized logistic regression model:')\n",
    "#print(f'Train accuracy: {100*(svm_optimal_train_acc)}%')\n",
    "#print(f'Test accuracy: {100*(svm_optimal_test_acc)}%')"
   ]
  },
  {
   "cell_type": "markdown",
   "id": "e8b3594c",
   "metadata": {},
   "source": [
    "**I wanted to run this SVM model but it took too long to compute. Due to time constraints I could not wait for the model to finish running. I stopped running it after 8 hours. This will be included in my next steps.**"
   ]
  },
  {
   "cell_type": "markdown",
   "id": "da6922c7",
   "metadata": {},
   "source": [
    "## Random Forest"
   ]
  },
  {
   "cell_type": "markdown",
   "id": "6656e67a",
   "metadata": {},
   "source": [
    "Random forest is a Supervised Machine Learning Algorithm that is used widely in Classification and Regression problems. It builds decision trees on different samples and takes their majority vote for classification and average in case of regression."
   ]
  },
  {
   "cell_type": "code",
   "execution_count": 47,
   "id": "871e14f3",
   "metadata": {},
   "outputs": [
    {
     "data": {
      "text/plain": [
       "dict_keys(['bootstrap', 'ccp_alpha', 'class_weight', 'criterion', 'max_depth', 'max_features', 'max_leaf_nodes', 'max_samples', 'min_impurity_decrease', 'min_impurity_split', 'min_samples_leaf', 'min_samples_split', 'min_weight_fraction_leaf', 'n_estimators', 'n_jobs', 'oob_score', 'random_state', 'verbose', 'warm_start'])"
      ]
     },
     "execution_count": 47,
     "metadata": {},
     "output_type": "execute_result"
    }
   ],
   "source": [
    "#these are the parameters we can tune in pursuit of the best model\n",
    "RandomForestClassifier().get_params().keys()"
   ]
  },
  {
   "cell_type": "code",
   "execution_count": 48,
   "id": "a038880b",
   "metadata": {
    "scrolled": false
   },
   "outputs": [
    {
     "name": "stdout",
     "output_type": "stream",
     "text": [
      "Fitting 5 folds for each of 12 candidates, totalling 60 fits\n",
      "[CV] END model=RandomForestClassifier(), model__max_depth=1, model__n_estimators=5; total time=   1.1s\n",
      "[CV] END model=RandomForestClassifier(), model__max_depth=1, model__n_estimators=5; total time=   1.0s\n",
      "[CV] END model=RandomForestClassifier(), model__max_depth=1, model__n_estimators=5; total time=   1.0s\n",
      "[CV] END model=RandomForestClassifier(), model__max_depth=1, model__n_estimators=5; total time=   1.1s\n",
      "[CV] END model=RandomForestClassifier(), model__max_depth=1, model__n_estimators=5; total time=   1.0s\n",
      "[CV] END model=RandomForestClassifier(), model__max_depth=1, model__n_estimators=10; total time=   1.6s\n",
      "[CV] END model=RandomForestClassifier(), model__max_depth=1, model__n_estimators=10; total time=   1.5s\n",
      "[CV] END model=RandomForestClassifier(), model__max_depth=1, model__n_estimators=10; total time=   1.4s\n",
      "[CV] END model=RandomForestClassifier(), model__max_depth=1, model__n_estimators=10; total time=   1.4s\n",
      "[CV] END model=RandomForestClassifier(), model__max_depth=1, model__n_estimators=10; total time=   1.4s\n",
      "[CV] END model=RandomForestClassifier(), model__max_depth=1, model__n_estimators=15; total time=   1.9s\n",
      "[CV] END model=RandomForestClassifier(), model__max_depth=1, model__n_estimators=15; total time=   1.8s\n",
      "[CV] END model=RandomForestClassifier(), model__max_depth=1, model__n_estimators=15; total time=   1.8s\n",
      "[CV] END model=RandomForestClassifier(), model__max_depth=1, model__n_estimators=15; total time=   1.8s\n",
      "[CV] END model=RandomForestClassifier(), model__max_depth=1, model__n_estimators=15; total time=   2.0s\n",
      "[CV] END model=RandomForestClassifier(), model__max_depth=1, model__n_estimators=20; total time=   2.2s\n",
      "[CV] END model=RandomForestClassifier(), model__max_depth=1, model__n_estimators=20; total time=   2.2s\n",
      "[CV] END model=RandomForestClassifier(), model__max_depth=1, model__n_estimators=20; total time=   2.2s\n",
      "[CV] END model=RandomForestClassifier(), model__max_depth=1, model__n_estimators=20; total time=   2.2s\n",
      "[CV] END model=RandomForestClassifier(), model__max_depth=1, model__n_estimators=20; total time=   2.3s\n",
      "[CV] END model=RandomForestClassifier(), model__max_depth=5, model__n_estimators=5; total time=   2.4s\n",
      "[CV] END model=RandomForestClassifier(), model__max_depth=5, model__n_estimators=5; total time=   2.7s\n",
      "[CV] END model=RandomForestClassifier(), model__max_depth=5, model__n_estimators=5; total time=   2.4s\n",
      "[CV] END model=RandomForestClassifier(), model__max_depth=5, model__n_estimators=5; total time=   2.5s\n",
      "[CV] END model=RandomForestClassifier(), model__max_depth=5, model__n_estimators=5; total time=   2.4s\n",
      "[CV] END model=RandomForestClassifier(), model__max_depth=5, model__n_estimators=10; total time=   4.2s\n",
      "[CV] END model=RandomForestClassifier(), model__max_depth=5, model__n_estimators=10; total time=   4.4s\n",
      "[CV] END model=RandomForestClassifier(), model__max_depth=5, model__n_estimators=10; total time=   4.4s\n",
      "[CV] END model=RandomForestClassifier(), model__max_depth=5, model__n_estimators=10; total time=   4.1s\n",
      "[CV] END model=RandomForestClassifier(), model__max_depth=5, model__n_estimators=10; total time=   4.1s\n",
      "[CV] END model=RandomForestClassifier(), model__max_depth=5, model__n_estimators=15; total time=   5.7s\n",
      "[CV] END model=RandomForestClassifier(), model__max_depth=5, model__n_estimators=15; total time=   5.0s\n",
      "[CV] END model=RandomForestClassifier(), model__max_depth=5, model__n_estimators=15; total time=   5.2s\n",
      "[CV] END model=RandomForestClassifier(), model__max_depth=5, model__n_estimators=15; total time=   6.7s\n",
      "[CV] END model=RandomForestClassifier(), model__max_depth=5, model__n_estimators=15; total time=   6.4s\n",
      "[CV] END model=RandomForestClassifier(), model__max_depth=5, model__n_estimators=20; total time=   8.4s\n",
      "[CV] END model=RandomForestClassifier(), model__max_depth=5, model__n_estimators=20; total time=  48.9s\n",
      "[CV] END model=RandomForestClassifier(), model__max_depth=5, model__n_estimators=20; total time=   7.6s\n",
      "[CV] END model=RandomForestClassifier(), model__max_depth=5, model__n_estimators=20; total time=   7.7s\n",
      "[CV] END model=RandomForestClassifier(), model__max_depth=5, model__n_estimators=20; total time=   6.0s\n",
      "[CV] END model=RandomForestClassifier(), model__max_depth=10, model__n_estimators=5; total time=   3.3s\n",
      "[CV] END model=RandomForestClassifier(), model__max_depth=10, model__n_estimators=5; total time=   3.3s\n",
      "[CV] END model=RandomForestClassifier(), model__max_depth=10, model__n_estimators=5; total time=   3.2s\n",
      "[CV] END model=RandomForestClassifier(), model__max_depth=10, model__n_estimators=5; total time=   3.3s\n",
      "[CV] END model=RandomForestClassifier(), model__max_depth=10, model__n_estimators=5; total time=   3.2s\n",
      "[CV] END model=RandomForestClassifier(), model__max_depth=10, model__n_estimators=10; total time=   5.9s\n",
      "[CV] END model=RandomForestClassifier(), model__max_depth=10, model__n_estimators=10; total time=   5.9s\n",
      "[CV] END model=RandomForestClassifier(), model__max_depth=10, model__n_estimators=10; total time=   7.0s\n",
      "[CV] END model=RandomForestClassifier(), model__max_depth=10, model__n_estimators=10; total time=   7.9s\n",
      "[CV] END model=RandomForestClassifier(), model__max_depth=10, model__n_estimators=10; total time=   7.4s\n",
      "[CV] END model=RandomForestClassifier(), model__max_depth=10, model__n_estimators=15; total time=   8.8s\n",
      "[CV] END model=RandomForestClassifier(), model__max_depth=10, model__n_estimators=15; total time=  11.6s\n",
      "[CV] END model=RandomForestClassifier(), model__max_depth=10, model__n_estimators=15; total time=  11.5s\n",
      "[CV] END model=RandomForestClassifier(), model__max_depth=10, model__n_estimators=15; total time=  10.0s\n",
      "[CV] END model=RandomForestClassifier(), model__max_depth=10, model__n_estimators=15; total time=  11.4s\n",
      "[CV] END model=RandomForestClassifier(), model__max_depth=10, model__n_estimators=20; total time=  14.9s\n",
      "[CV] END model=RandomForestClassifier(), model__max_depth=10, model__n_estimators=20; total time=  14.2s\n",
      "[CV] END model=RandomForestClassifier(), model__max_depth=10, model__n_estimators=20; total time=  15.0s\n",
      "[CV] END model=RandomForestClassifier(), model__max_depth=10, model__n_estimators=20; total time=  14.9s\n",
      "[CV] END model=RandomForestClassifier(), model__max_depth=10, model__n_estimators=20; total time=  14.9s\n"
     ]
    }
   ],
   "source": [
    "random_forest = RandomForestClassifier(n_estimators=50)\n",
    "\n",
    "#instantiate model features \n",
    "estimators = [('model',RandomForestClassifier())]\n",
    "\n",
    "#instantiate the pipeline \n",
    "pipe = Pipeline(estimators)\n",
    "\n",
    "#define model feature parameters to be iterated over \n",
    "params = [\n",
    "          {'model': [RandomForestClassifier()],\n",
    "           'model__n_estimators': [5, 10, 15, 20],\n",
    "           'model__max_depth': [1, 5, 10]}\n",
    "]\n",
    "\n",
    "#consolidate all iterations into one loop\n",
    "grid_search_random_forest = GridSearchCV(pipe, param_grid=params, cv=5, verbose=2)\n",
    "\n",
    "#fit model specifications \n",
    "fitted_search_random_forest = grid_search_random_forest.fit(X_train, y_train)"
   ]
  },
  {
   "cell_type": "code",
   "execution_count": 49,
   "id": "c894797c",
   "metadata": {},
   "outputs": [
    {
     "data": {
      "text/plain": [
       "['fitted_search_random_forest.pkl']"
      ]
     },
     "execution_count": 49,
     "metadata": {},
     "output_type": "execute_result"
    }
   ],
   "source": [
    "joblib.dump(fitted_search_random_forest, \"fitted_search_random_forest.pkl\")"
   ]
  },
  {
   "cell_type": "code",
   "execution_count": 50,
   "id": "20afcdaa",
   "metadata": {},
   "outputs": [],
   "source": [
    "fitted_search_random_forest = joblib.load(\"fitted_search_random_forest.pkl\") "
   ]
  },
  {
   "cell_type": "code",
   "execution_count": 51,
   "id": "9898e921",
   "metadata": {},
   "outputs": [
    {
     "data": {
      "text/plain": [
       "{'model': RandomForestClassifier(max_depth=10, n_estimators=20),\n",
       " 'model__max_depth': 10,\n",
       " 'model__n_estimators': 20}"
      ]
     },
     "execution_count": 51,
     "metadata": {},
     "output_type": "execute_result"
    }
   ],
   "source": [
    "fitted_search_random_forest.best_params_"
   ]
  },
  {
   "cell_type": "code",
   "execution_count": 52,
   "id": "47810053",
   "metadata": {},
   "outputs": [
    {
     "name": "stdout",
     "output_type": "stream",
     "text": [
      "Optimized Random Forest model:\n",
      "Train accuracy: 74.17515262440271%\n",
      "Test accuracy: 70.49623267359357%\n"
     ]
    }
   ],
   "source": [
    "#instantiate model with the optimized hyperparameters \n",
    "random_forest_optimal = fitted_search_random_forest.best_params_['model']\n",
    "\n",
    "#fit model to original train data \n",
    "random_forest_optimal.fit(X_train, y_train)\n",
    "\n",
    "#evaluate model performance \n",
    "random_forest_optimal_train_acc = random_forest_optimal.score(X_train, y_train)\n",
    "random_forest_optimal_test_acc = random_forest_optimal.score(X_test, y_test)\n",
    "\n",
    "print(f'Optimized Random Forest model:')\n",
    "print(f'Train accuracy: {100*(random_forest_optimal_train_acc)}%')\n",
    "print(f'Test accuracy: {100*(random_forest_optimal_test_acc)}%')"
   ]
  },
  {
   "cell_type": "markdown",
   "id": "8a04a714",
   "metadata": {},
   "source": [
    "We can see here that our training set has the lowest accuracy out of all our models, however the accuracy for our test set is the highest so far."
   ]
  },
  {
   "cell_type": "code",
   "execution_count": 66,
   "id": "b9a74035",
   "metadata": {
    "scrolled": false
   },
   "outputs": [
    {
     "name": "stdout",
     "output_type": "stream",
     "text": [
      "              precision    recall  f1-score   support\n",
      "\n",
      "           0       0.96      0.70      0.81     40705\n",
      "           1       0.23      0.75      0.35      4818\n",
      "\n",
      "    accuracy                           0.70     45523\n",
      "   macro avg       0.59      0.73      0.58     45523\n",
      "weighted avg       0.88      0.70      0.76     45523\n",
      "\n"
     ]
    },
    {
     "data": {
      "image/png": "[encoded data removed]",
      "text/plain": [
       "<Figure size 432x288 with 2 Axes>"
      ]
     },
     "metadata": {
      "needs_background": "light"
     },
     "output_type": "display_data"
    }
   ],
   "source": [
    "#predictions on test data \n",
    "y_pred = random_forest_optimal.predict(X_test)\n",
    "\n",
    "#call confusion matrix \n",
    "plot_confusion_matrix(random_forest_optimal, X_test, y_test, cmap='viridis')\n",
    "\n",
    "print(classification_report(y_test, y_pred))"
   ]
  },
  {
   "cell_type": "markdown",
   "id": "4efc788a",
   "metadata": {},
   "source": [
    "Out of all our models we have the highest precision and recall scores in this model. As previously stated the F1 metric is the one that matters most for the purpose of this project due to the high class imbalance. We also witness the highest F1 score here with 0.35. "
   ]
  },
  {
   "cell_type": "code",
   "execution_count": 67,
   "id": "134bfb4f",
   "metadata": {},
   "outputs": [
    {
     "data": {
      "image/png": "[encoded data removed]",
      "text/plain": [
       "<Figure size 432x288 with 1 Axes>"
      ]
     },
     "metadata": {
      "needs_background": "light"
     },
     "output_type": "display_data"
    }
   ],
   "source": [
    "plot_roc_curve(random_forest_optimal, X_test, y_test)\n",
    "plt.title('ROC Curve:KNN optimal')\n",
    "plt.show()"
   ]
  },
  {
   "cell_type": "markdown",
   "id": "b20ea5f0",
   "metadata": {},
   "source": [
    "We can see here that our ROC curve looks similar to that of our upsampled logistic regression model. However our AUC value is slighlty higher at 0.8. \n",
    "\n",
    "Overall, our random forest model is the best model as it has the highest test accuracy in addition to having the highest F1 score and AUC values. \n",
    "\n",
    "In addition to the above, this was the model that took the least time to compute, leading me to believe it is computationally the lest expensive model to run. "
   ]
  },
  {
   "cell_type": "markdown",
   "id": "deeb7362",
   "metadata": {},
   "source": [
    "## Conclusion\n",
    "\n",
    "In this notebook we used GridSearchCV to optimize the hyperparameters of different models which helped determine which of these models performed the best. GridSearchCV uses cross validation scores to determine which model performs the best. The best model we found was the random forest classifier, it has an F1 score of 0.35, and AUC of 0.8 and a test accuracy of 70.49%. "
   ]
  },
  {
   "cell_type": "markdown",
   "id": "58746ebf",
   "metadata": {},
   "source": [
    "### Findings"
   ]
  },
  {
   "cell_type": "markdown",
   "id": "fd7f111e",
   "metadata": {},
   "source": [
    "Our main findings is that the shots that result in the highest probability of scoring are the ones taken from the shortest distance and widest angle. However, the amount of shots taken from favourable locations and angles also do result in misses quite often. For this reason, when modelling, we werent able to get the results that we'd hoped for due to the fact that shots that end up being scored or missed often do have very similar characteristics. We were able to see this in our modelling by getting alot of false positives and false negatives.\n",
    "\n",
    "Furthermore, as we saw in our heatmap plots in EDA notebook, the most densely populated areas for shots on the pitch are the areas infront of goal. When we filtered for goals only, we saw a massive decrease in the heatmaps intensity, however the observations were still in the same location, which leads us to further believe the fact that shots that were missed and scored have very similar characteristics even though the large majority end up being a miss. "
   ]
  },
  {
   "cell_type": "markdown",
   "id": "96fe9b21",
   "metadata": {},
   "source": [
    "## Next steps: \n",
    "\n",
    "Due to time constraints there were some ideas I had in mind that I could not accomplish, If I had more time I would: \n",
    "- Find statistical data for each player, such as current goals ratio, conversion ratio, and so forth to incorporate into my analysis, The reason for this would be that the model would be able to evaluate which players are better finishers and that would increase the likelihood of their shot.\n",
    "- Add more features due to the fact that different shots from the same ditance and angle could be entirely different if there is a defender in front of the shooter versus no defender infront of the shooter. If I had defenders positions at the time of the shot, that could better classify if the shot was successful or not.\n",
    "- I would incorporate statistical measures for the teams such as current average goals per game, or current average clean sheets per game. I would be able to incorporate that into my analysis to assess whether a team is likely to score and be scored on, which would give the machine learning models more information on the outcome of the shot. \n",
    "- Also, given time constraints, my model runtime was too long to be able to onehotencode the teams while using gridsearchcv, which introduced some data leakage. I would make sure to avoid this as data leakage is cancerous to modelling. \n",
    "- I would use pyspark on AWS for modelling my machine learning techniques as it would save me lots of time and give me the ability to pass larger amounts of hyperparamaters for optimal tuning. \n",
    "- I would train-test-split my data using techniques other than upsampling to see what yields the best results. This would include downsampling and SMOTE. \n",
    "- I would use gridsearchCV on many more hyperparameters.\n"
   ]
  },
  {
   "cell_type": "code",
   "execution_count": null,
   "id": "4c20cf9f",
   "metadata": {},
   "outputs": [],
   "source": []
  }
 ],
 "metadata": {
  "kernelspec": {
   "display_name": "Python 3 (ipykernel)",
   "language": "python",
   "name": "python3"
  },
  "language_info": {
   "codemirror_mode": {
    "name": "ipython",
    "version": 3
   },
   "file_extension": ".py",
   "mimetype": "text/x-python",
   "name": "python",
   "nbconvert_exporter": "python",
   "pygments_lexer": "ipython3",
   "version": "3.9.7"
  }
 },
 "nbformat": 4,
 "nbformat_minor": 5
}
